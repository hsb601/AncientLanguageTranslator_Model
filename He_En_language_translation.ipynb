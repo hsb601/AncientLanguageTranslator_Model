{
 "cells": [
  {
   "cell_type": "code",
   "execution_count": 1,
   "metadata": {
    "colab": {
     "base_uri": "https://localhost:8080/"
    },
    "executionInfo": {
     "elapsed": 532,
     "status": "ok",
     "timestamp": 1699976164900,
     "user": {
      "displayName": "AI X TREME",
      "userId": "04533600433496184875"
     },
     "user_tz": 480
    },
    "id": "KALYvZycPe8N",
    "outputId": "79dc05e1-1e25-403d-ebb9-83844b8e4a85"
   },
   "outputs": [
    {
     "name": "stderr",
     "output_type": "stream",
     "text": [
      "'nvidia-smi' is not recognized as an internal or external command,\n",
      "operable program or batch file.\n"
     ]
    }
   ],
   "source": [
    "#Checking if GPU is running or not\n",
    "\n",
    "!nvidia-smi"
   ]
  },
  {
   "cell_type": "code",
   "execution_count": 2,
   "metadata": {
    "colab": {
     "base_uri": "https://localhost:8080/"
    },
    "executionInfo": {
     "elapsed": 17424,
     "status": "ok",
     "timestamp": 1699976274833,
     "user": {
      "displayName": "AI X TREME",
      "userId": "04533600433496184875"
     },
     "user_tz": 480
    },
    "id": "_3XQ_jhwe0m5",
    "outputId": "fda0f2bc-32cb-4a31-9a7b-c92e60fa8906"
   },
   "outputs": [],
   "source": [
    "# !pip install datasets transformers[sentencepiece] sacrebleu -q"
   ]
  },
  {
   "cell_type": "code",
   "execution_count": 3,
   "metadata": {
    "executionInfo": {
     "elapsed": 10754,
     "status": "ok",
     "timestamp": 1699976285571,
     "user": {
      "displayName": "AI X TREME",
      "userId": "04533600433496184875"
     },
     "user_tz": 480
    },
    "id": "fr_hhoAFefza"
   },
   "outputs": [],
   "source": [
    "import os\n",
    "import sys\n",
    "import transformers\n",
    "import tensorflow as tf\n",
    "from sklearn.metrics import accuracy_score\n",
    "from datasets import load_dataset\n",
    "from datasets import Dataset,DatasetDict\n",
    "from transformers import AutoTokenizer\n",
    "from transformers import TFAutoModelForSeq2SeqLM, DataCollatorForSeq2Seq\n",
    "from transformers import AdamWeightDecay\n",
    "from transformers import AutoTokenizer, TFAutoModelForSeq2SeqLM\n",
    "import numpy as np\n",
    "import matplotlib.pyplot as plt"
   ]
  },
  {
   "cell_type": "code",
   "execution_count": 4,
   "metadata": {
    "executionInfo": {
     "elapsed": 8,
     "status": "ok",
     "timestamp": 1699976285571,
     "user": {
      "displayName": "AI X TREME",
      "userId": "04533600433496184875"
     },
     "user_tz": 480
    },
    "id": "-dbDT2O9fJEp"
   },
   "outputs": [],
   "source": [
    "model_checkpoint = \"tf_model\""
   ]
  },
  {
   "cell_type": "markdown",
   "metadata": {
    "id": "8H3frhJQ_Lym"
   },
   "source": [
    "# The Dataset"
   ]
  },
  {
   "cell_type": "code",
   "execution_count": 5,
   "metadata": {
    "colab": {
     "base_uri": "https://localhost:8080/"
    },
    "executionInfo": {
     "elapsed": 1774,
     "status": "ok",
     "timestamp": 1699976287339,
     "user": {
      "displayName": "AI X TREME",
      "userId": "04533600433496184875"
     },
     "user_tz": 480
    },
    "id": "daj9JBV6jDGK",
    "outputId": "5f980b7d-e098-4002-d3c8-6a7bbdc0556a"
   },
   "outputs": [
    {
     "name": "stdout",
     "output_type": "stream",
     "text": [
      "Dataset({\n",
      "    features: ['hebrew', 'english'],\n",
      "    num_rows: 231\n",
      "})\n"
     ]
    }
   ],
   "source": [
    "# # raw_datasets = load_dataset(\"heb-een.txt\")\n",
    "# custom_dataset = \"he-en.txt\"\n",
    "# raw_datasets = load_dataset(\"text\", data_files=custom_dataset)\n",
    "# raw_datasets[\"train\"][:100]\n",
    "# Load the custom dataset from the provided text file\n",
    "custom_dataset = \"AncientImages.txt\"\n",
    "with open(custom_dataset, \"r\", encoding=\"utf-8\") as file:\n",
    "    lines = file.readlines()\n",
    "\n",
    "dataset_dict = {\"hebrew\": [], \"english\": []}\n",
    "\n",
    "# Process each line in the dataset file and populate the dictionary\n",
    "for line in lines:\n",
    "    # Check if the line contains a tab character\n",
    "    if \"\\t\" in line:\n",
    "        hebrew, english = line.strip().split(\"\\t\")\n",
    "        dataset_dict[\"hebrew\"].append(hebrew)\n",
    "        dataset_dict[\"english\"].append(english)\n",
    "\n",
    "\n",
    "# Convert the dictionary to a Hugging Face dataset\n",
    "\n",
    "custom_hf_dataset = Dataset.from_dict(dataset_dict)\n",
    "\n",
    "# if you want to Combine the custom dataset with the IITB dataset\n",
    "combined_dataset = DatasetDict({\n",
    "    \"train\": Dataset.from_dict({\n",
    "        \"hebrew\": custom_hf_dataset[\"hebrew\"] ,\n",
    "        \"english\": custom_hf_dataset[\"english\"]\n",
    "    })\n",
    "})\n",
    "\n",
    "# Print the first 100 examples from the combined dataset\n",
    "print(combined_dataset[\"train\"])\n"
   ]
  },
  {
   "cell_type": "code",
   "execution_count": 6,
   "metadata": {
    "colab": {
     "base_uri": "https://localhost:8080/"
    },
    "executionInfo": {
     "elapsed": 8,
     "status": "ok",
     "timestamp": 1699976287339,
     "user": {
      "displayName": "AI X TREME",
      "userId": "04533600433496184875"
     },
     "user_tz": 480
    },
    "id": "GHdy5o8zsGhm",
    "outputId": "acf53e26-0752-49c8-8ecb-a17ccc27cfe1"
   },
   "outputs": [
    {
     "data": {
      "text/plain": [
       "{'hebrew': 'התמונה המוקרנת על הרישתית מועברת דרך אין ספור יחידות רגישות לאור — קולטי הראיה, המכונים קָנִים וּמְדוֹכִים. הקליטה של פרטים וצבע מעוּלָה ביותר באותו חלק של הרישתית הידוע ככתם הצהוב. בשטח זה אין קנים כלל והמְדוֹכִים ערוכים בו בצפיפות. לכל מָדוֹר קשר עֲצַבִּי משלו ובעובדה זו ערובה לבהירות הגבוהה של הראיה באיזור זה. בחלקים ההיק- ',\n",
       " 'english': ' The image projected onto the retina is transmitted through innumerable light-sensitive units — the photoreceptors, known as canines and oppressors. The absorption of detail and color is most clouded in the same part of the retina known as the yellow spot. In this territory there are no nests at all and the thickets are densely laid out in it. Each model has its own neural connection and in this fact guarantees the high clarity of vision in this area. In parts of the hick-'}"
      ]
     },
     "execution_count": 6,
     "metadata": {},
     "output_type": "execute_result"
    }
   ],
   "source": [
    "combined_dataset['train'][0]"
   ]
  },
  {
   "cell_type": "markdown",
   "metadata": {
    "id": "4x6TtxnEEDuw"
   },
   "source": [
    "#Preprocessing the data"
   ]
  },
  {
   "cell_type": "code",
   "execution_count": 7,
   "metadata": {
    "colab": {
     "base_uri": "https://localhost:8080/"
    },
    "executionInfo": {
     "elapsed": 5429,
     "status": "ok",
     "timestamp": 1699976292764,
     "user": {
      "displayName": "AI X TREME",
      "userId": "04533600433496184875"
     },
     "user_tz": 480
    },
    "id": "20qWg7z8qv7z",
    "outputId": "e24b4321-4c45-41d3-86b3-131bfc8322ed"
   },
   "outputs": [
    {
     "name": "stderr",
     "output_type": "stream",
     "text": [
      "Special tokens have been added in the vocabulary, make sure the associated word embeddings are fine-tuned or trained.\n"
     ]
    }
   ],
   "source": [
    "tokenizer = AutoTokenizer.from_pretrained(model_checkpoint)"
   ]
  },
  {
   "cell_type": "code",
   "execution_count": 8,
   "metadata": {
    "colab": {
     "base_uri": "https://localhost:8080/"
    },
    "executionInfo": {
     "elapsed": 22,
     "status": "ok",
     "timestamp": 1699976292765,
     "user": {
      "displayName": "AI X TREME",
      "userId": "04533600433496184875"
     },
     "user_tz": 480
    },
    "id": "QfaNkUHNqU11",
    "outputId": "6734fb95-182b-44e3-e9ec-6b3c2ca633b1"
   },
   "outputs": [
    {
     "data": {
      "text/plain": [
       "{'hebrew': 'התמונה המוקרנת על הרישתית מועברת דרך אין ספור יחידות רגישות לאור — קולטי הראיה, המכונים קָנִים וּמְדוֹכִים. הקליטה של פרטים וצבע מעוּלָה ביותר באותו חלק של הרישתית הידוע ככתם הצהוב. בשטח זה אין קנים כלל והמְדוֹכִים ערוכים בו בצפיפות. לכל מָדוֹר קשר עֲצַבִּי משלו ובעובדה זו ערובה לבהירות הגבוהה של הראיה באיזור זה. בחלקים ההיק- ',\n",
       " 'english': ' The image projected onto the retina is transmitted through innumerable light-sensitive units — the photoreceptors, known as canines and oppressors. The absorption of detail and color is most clouded in the same part of the retina known as the yellow spot. In this territory there are no nests at all and the thickets are densely laid out in it. Each model has its own neural connection and in this fact guarantees the high clarity of vision in this area. In parts of the hick-'}"
      ]
     },
     "execution_count": 8,
     "metadata": {},
     "output_type": "execute_result"
    }
   ],
   "source": [
    "combined_dataset['train'][0]"
   ]
  },
  {
   "cell_type": "code",
   "execution_count": 9,
   "metadata": {
    "colab": {
     "base_uri": "https://localhost:8080/"
    },
    "executionInfo": {
     "elapsed": 23,
     "status": "ok",
     "timestamp": 1699976292770,
     "user": {
      "displayName": "AI X TREME",
      "userId": "04533600433496184875"
     },
     "user_tz": 480
    },
    "id": "eYCILyEK0HXG",
    "outputId": "b8fd5e8c-a237-4c83-faf6-ce281151c370"
   },
   "outputs": [
    {
     "data": {
      "text/plain": [
       "{'input_ids': [44, 61785, 61785, 53884, 61877, 50781, 0], 'attention_mask': [1, 1, 1, 1, 1, 1, 1]}"
      ]
     },
     "execution_count": 9,
     "metadata": {},
     "output_type": "execute_result"
    }
   ],
   "source": [
    "tokenizer(\"אאודי‎\")"
   ]
  },
  {
   "cell_type": "code",
   "execution_count": 10,
   "metadata": {
    "colab": {
     "base_uri": "https://localhost:8080/"
    },
    "executionInfo": {
     "elapsed": 22,
     "status": "ok",
     "timestamp": 1699976292771,
     "user": {
      "displayName": "AI X TREME",
      "userId": "04533600433496184875"
     },
     "user_tz": 480
    },
    "id": "HDgcI2Nz0SZN",
    "outputId": "3c6293c5-60c5-405e-95ff-233a9c801e36"
   },
   "outputs": [
    {
     "data": {
      "text/plain": [
       "{'input_ids': [[44, 1, 0], [44, 61785, 61785, 53884, 61877, 50781, 0]], 'attention_mask': [[1, 1, 1], [1, 1, 1, 1, 1, 1, 1]]}"
      ]
     },
     "execution_count": 10,
     "metadata": {},
     "output_type": "execute_result"
    }
   ],
   "source": [
    "tokenizer([\"𐤁\", \"אאודי\"])"
   ]
  },
  {
   "cell_type": "code",
   "execution_count": 11,
   "metadata": {
    "colab": {
     "base_uri": "https://localhost:8080/"
    },
    "executionInfo": {
     "elapsed": 20,
     "status": "ok",
     "timestamp": 1699976292771,
     "user": {
      "displayName": "AI X TREME",
      "userId": "04533600433496184875"
     },
     "user_tz": 480
    },
    "id": "nh0epnye1JJk",
    "outputId": "fd9cf39a-285b-45d8-9d1c-2ef91829e6e0"
   },
   "outputs": [
    {
     "name": "stdout",
     "output_type": "stream",
     "text": [
      "{'input_ids': [[44, 1, 0]], 'attention_mask': [[1, 1, 1]]}\n"
     ]
    },
    {
     "name": "stderr",
     "output_type": "stream",
     "text": [
      "C:\\Users\\PCS\\AppData\\Local\\Programs\\Python\\Python311\\Lib\\site-packages\\transformers\\tokenization_utils_base.py:3864: UserWarning: `as_target_tokenizer` is deprecated and will be removed in v5 of Transformers. You can tokenize your labels by using the argument `text_target` of the regular `__call__` method (either in the same call as your input texts if you use the same keyword arguments, or in a separate call.\n",
      "  warnings.warn(\n"
     ]
    }
   ],
   "source": [
    "with tokenizer.as_target_tokenizer():\n",
    "    print(tokenizer([\"𐤀\"]))"
   ]
  },
  {
   "cell_type": "markdown",
   "metadata": {
    "id": "A7CgVjtGaFfw"
   },
   "source": [
    "# Data Labeling"
   ]
  },
  {
   "cell_type": "code",
   "execution_count": 12,
   "metadata": {
    "colab": {
     "base_uri": "https://localhost:8080/",
     "height": 86,
     "referenced_widgets": [
      "2049d76ea8bb4fdf96f3fe9b059b6577",
      "7e0cda89d5ba496fa3f15239d9e9ab5a",
      "9248c477e2124d3d91388fcacdfd02ce",
      "bee804fb1a9640268e9af1b4cb2310f2",
      "8ca182a1aa62421395caa585f5428347",
      "ebea574979474e07bf6f3d0172b931bf",
      "800ec95473c34573a32f7afecabfa2fb",
      "e113c224b27f45e98f63bfd46cdb7440",
      "27644b541d354144ab648973fae1413b",
      "5a9ddc22d7134ae587beffeb9ed61a6f",
      "019fdac33c3e4de6b2968c078e32972d"
     ]
    },
    "executionInfo": {
     "elapsed": 72691,
     "status": "ok",
     "timestamp": 1699976365445,
     "user": {
      "displayName": "AI X TREME",
      "userId": "04533600433496184875"
     },
     "user_tz": 480
    },
    "id": "XHaFoHKG3snJ",
    "outputId": "f2cb626b-f7d9-4a91-b4f6-aa4d425e7e92"
   },
   "outputs": [
    {
     "data": {
      "application/vnd.jupyter.widget-view+json": {
       "model_id": "10cece5aab43400fac116865677b5441",
       "version_major": 2,
       "version_minor": 0
      },
      "text/plain": [
       "Map:   0%|          | 0/231 [00:00<?, ? examples/s]"
      ]
     },
     "metadata": {},
     "output_type": "display_data"
    },
    {
     "name": "stdout",
     "output_type": "stream",
     "text": [
      "{'hebrew': ['התמונה המוקרנת על הרישתית מועברת דרך אין ספור יחידות רגישות לאור — קולטי הראיה, המכונים קָנִים וּמְדוֹכִים. הקליטה של פרטים וצבע מעוּלָה ביותר באותו חלק של הרישתית הידוע ככתם הצהוב. בשטח זה אין קנים כלל והמְדוֹכִים ערוכים בו בצפיפות. לכל מָדוֹר קשר עֲצַבִּי משלו ובעובדה זו ערובה לבהירות הגבוהה של הראיה באיזור זה. בחלקים ההיק- ', 'רחוב הפטריארכיה הארמנית ', 'ז דברי למטה דן על פי יהוה : לאמר : הוצא או ', 'ז ', 'דברי ', 'למטה ', 'דן ', 'על ', 'פי ', 'יהוה '], 'english': [' The image projected onto the retina is transmitted through innumerable light-sensitive units — the photoreceptors, known as canines and oppressors. The absorption of detail and color is most clouded in the same part of the retina known as the yellow spot. In this territory there are no nests at all and the thickets are densely laid out in it. Each model has its own neural connection and in this fact guarantees the high clarity of vision in this area. In parts of the hick-', ' Armenian Patriarchate Street', ' 7 The words below are discussed according to Yahweh: to say: Take out or', ' G', ' Words', ' down', ' Dan', ' On', ' times', ' Jehovah'], 'input_ids': [[44, 41351, 1, 53884, 61734, 41351, 44, 41351, 1, 53884, 61880, 1, 61734, 1, 44, 1, 61879, 44, 41351, 1, 50781, 61735, 1, 50781, 1, 44, 1, 53884, 1, 44, 61877, 1, 44, 61785, 50781, 1, 44, 1, 61767, 53884, 1, 44, 50781, 1, 50781, 61877, 53884, 1, 44, 1, 50781, 61735, 53884, 1, 44, 61879, 61785, 53884, 1, 64, 44, 61880, 53884, 61879, 61878, 50781, 44, 41351, 1, 61785, 50781, 41351, 2, 44, 41351, 1, 53884, 61734, 50781, 1, 44, 61880, 61876, 61734, 1, 50781, 1, 44, 53884, 1, 61823, 61877, 53884, 61784, 1, 50781, 1, 3, 44, 41351, 61880, 61879, 50781, 61878, 41351, 44, 61735, 61879, 44, 61767, 1, 61878, 50781, 1, 44, 53884, 1, 44, 1, 53884, 1, 61879, 61876, 41351, 44, 1, 50781, 53884, 1, 44, 1, 61785, 53884, 1, 53884, 44, 1, 61879, 61880, 44, 61735, 61879, 44, 41351, 1, 50781, 61735, 1, 50781, 1, 44, 41351, 50781, 61877, 53884, 1, 44, 1, 44, 41351, 1, 41351, 53884, 1, 3, 44, 1, 61735, 61878, 1, 44, 1, 41351, 44, 61785, 50781, 1, 44, 61880, 61734, 50781, 1, 44, 1, 61879, 61879, 44, 53884, 41351, 1, 61823, 61877, 53884, 61784, 1, 50781, 1, 44, 1, 53884, 1, 50781, 1, 44, 1, 53884, 44, 1, 61767, 50781, 61767, 53884, 1, 3, 44, 61879, 1, 61879, 44, 1, 61876, 61877, 53884, 61784, 1, 44, 61880, 61735, 1, 44, 1, 50781, 44, 1, 61735, 61879, 53884, 44, 53884, 1, 53884, 1, 61877, 41351, 44, 1, 53884, 44, 1, 53884, 1, 41351, 44, 61879, 1, 0], [44, 1, 53884, 1, 44, 41351, 61767, 61878, 1, 50781, 61785, 1, 50781, 41351, 44, 41351, 61785, 1, 61734, 50781, 1, 0], [44, 1, 44, 61877, 1, 50781, 44, 61879, 1, 61878, 41351, 44, 61877, 1, 44, 1, 61879, 44, 61767, 50781, 44, 59961, 44, 20, 44, 61879, 61785, 1, 44, 20, 44, 41351, 53884, 1, 61785, 44, 61785, 53884, 0], [44, 1, 0], [44, 61877, 1, 50781, 0], [44, 61879, 1, 61878, 41351, 0], [44, 61877, 1, 0], [44, 1, 61879, 0], [44, 61767, 50781, 0], [44, 59961, 0]], 'attention_mask': [[1, 1, 1, 1, 1, 1, 1, 1, 1, 1, 1, 1, 1, 1, 1, 1, 1, 1, 1, 1, 1, 1, 1, 1, 1, 1, 1, 1, 1, 1, 1, 1, 1, 1, 1, 1, 1, 1, 1, 1, 1, 1, 1, 1, 1, 1, 1, 1, 1, 1, 1, 1, 1, 1, 1, 1, 1, 1, 1, 1, 1, 1, 1, 1, 1, 1, 1, 1, 1, 1, 1, 1, 1, 1, 1, 1, 1, 1, 1, 1, 1, 1, 1, 1, 1, 1, 1, 1, 1, 1, 1, 1, 1, 1, 1, 1, 1, 1, 1, 1, 1, 1, 1, 1, 1, 1, 1, 1, 1, 1, 1, 1, 1, 1, 1, 1, 1, 1, 1, 1, 1, 1, 1, 1, 1, 1, 1, 1, 1, 1, 1, 1, 1, 1, 1, 1, 1, 1, 1, 1, 1, 1, 1, 1, 1, 1, 1, 1, 1, 1, 1, 1, 1, 1, 1, 1, 1, 1, 1, 1, 1, 1, 1, 1, 1, 1, 1, 1, 1, 1, 1, 1, 1, 1, 1, 1, 1, 1, 1, 1, 1, 1, 1, 1, 1, 1, 1, 1, 1, 1, 1, 1, 1, 1, 1, 1, 1, 1, 1, 1, 1, 1, 1, 1, 1, 1, 1, 1, 1, 1, 1, 1, 1, 1, 1, 1, 1, 1, 1, 1, 1, 1, 1, 1, 1, 1, 1, 1, 1, 1, 1, 1, 1, 1, 1, 1, 1, 1, 1, 1, 1, 1, 1, 1, 1, 1, 1, 1, 1, 1, 1, 1, 1, 1, 1, 1], [1, 1, 1, 1, 1, 1, 1, 1, 1, 1, 1, 1, 1, 1, 1, 1, 1, 1, 1, 1, 1, 1], [1, 1, 1, 1, 1, 1, 1, 1, 1, 1, 1, 1, 1, 1, 1, 1, 1, 1, 1, 1, 1, 1, 1, 1, 1, 1, 1, 1, 1, 1, 1, 1, 1, 1, 1, 1, 1, 1, 1], [1, 1, 1], [1, 1, 1, 1, 1], [1, 1, 1, 1, 1, 1], [1, 1, 1, 1], [1, 1, 1, 1], [1, 1, 1, 1], [1, 1, 1]], 'labels': [[81, 44, 13451, 44, 8906, 6439, 29102, 291, 68, 874, 4, 2498, 55623, 23, 16001, 363, 51474, 291, 44, 880, 896, 818, 1182, 1328, 2326, 21, 15319, 581, 758, 6635, 16969, 69, 35760, 16, 1659, 3447, 44, 8273, 16, 64, 4, 3914, 6716, 142, 16582, 5386, 1565, 142, 1245, 16, 2, 6984, 2991, 1731, 813, 19, 16, 44, 9529, 44329, 10, 44, 6502, 1565, 26687, 16, 1245, 16, 3, 81, 19, 1220, 16, 1245, 1565, 142, 2417, 8, 3947, 142, 292, 3022, 10, 44, 4066, 23, 12471, 1350, 3637, 4864, 1182, 232, 291, 21, 4, 44, 24694, 5049, 625, 8, 4, 2498, 55623, 6984, 2991, 1731, 813, 19, 16, 4, 7041, 10967, 818, 1731, 44, 16, 17029, 3, 198, 90, 44, 5093, 896, 1659, 1245, 667, 44, 7908, 19, 661, 44, 2991, 6532, 1987, 16, 145, 44, 2253, 10, 4, 5680, 6887, 51452, 16, 19, 661, 44, 10491, 16, 48679, 44, 3813, 4600, 44, 4418, 21, 44, 1659, 3, 1260, 292, 3826, 12471, 232, 2786, 120, 44, 1659, 16, 44, 818, 1731, 813, 44, 4413, 4738, 916, 6415, 813, 29102, 2417, 10, 21, 90, 4135, 292, 897, 142, 44, 34194, 896, 980, 5081, 1411, 4, 44, 6887, 1328, 2326, 3637, 1279, 2905, 4037, 8, 45985, 2417, 21, 90, 19, 661, 292, 3, 198, 625, 16, 8, 4, 44, 6887, 12064, 69, 0], [238, 43694, 1936, 4565, 2112, 292, 9647, 624, 2905, 3826, 4209, 1063, 16693, 142, 0], [1088, 81, 44, 53071, 42, 4864, 1731, 19, 661, 44, 18862, 2454, 16, 291, 44, 27513, 1245, 232, 137, 7, 2390, 3771, 5900, 2326, 20, 7, 44, 16584, 20, 2100, 21110, 44, 4418, 102, 0], [2797, 0], [848, 16, 0], [110, 1731, 813, 0], [1262, 980, 0], [481, 813, 0], [199, 16, 0], [44, 3596, 0]]}\n"
     ]
    }
   ],
   "source": [
    "max_input_length = 256\n",
    "max_target_length = 256\n",
    "\n",
    "source_lang = \"hebrew\"\n",
    "target_lang = \"english\"\n",
    "\n",
    "def preprocess_function(examples):\n",
    "    inputs = examples[source_lang]\n",
    "    targets = examples[target_lang]\n",
    "    model_inputs = tokenizer(inputs, max_length=max_input_length, truncation=True)\n",
    "\n",
    "    # Setup the tokenizer for targets\n",
    "    with tokenizer.as_target_tokenizer():\n",
    "        labels = tokenizer(targets, max_length=max_target_length, truncation=True)\n",
    "\n",
    "    model_inputs[\"labels\"] = labels[\"input_ids\"]\n",
    "    return model_inputs\n",
    "\n",
    "# Preprocess the combined dataset\n",
    "preprocessed_dataset = combined_dataset[\"train\"].map(preprocess_function)\n",
    "\n",
    "# Print the first 100 examples from the preprocessed dataset\n",
    "print(preprocessed_dataset[:10])"
   ]
  },
  {
   "cell_type": "code",
   "execution_count": 13,
   "metadata": {
    "colab": {
     "base_uri": "https://localhost:8080/"
    },
    "executionInfo": {
     "elapsed": 19,
     "status": "ok",
     "timestamp": 1699976365445,
     "user": {
      "displayName": "AI X TREME",
      "userId": "04533600433496184875"
     },
     "user_tz": 480
    },
    "id": "DX9vN5Yo4kuG",
    "outputId": "4e7425dd-795a-472b-f069-5c792d565b3c"
   },
   "outputs": [
    {
     "data": {
      "text/plain": [
       "{'input_ids': [[44, 41351, 1, 53884, 61734, 41351, 44, 41351, 1, 53884, 61880, 1, 61734, 1, 44, 1, 61879, 44, 41351, 1, 50781, 61735, 1, 50781, 1, 44, 1, 53884, 1, 44, 61877, 1, 44, 61785, 50781, 1, 44, 1, 61767, 53884, 1, 44, 50781, 1, 50781, 61877, 53884, 1, 44, 1, 50781, 61735, 53884, 1, 44, 61879, 61785, 53884, 1, 64, 44, 61880, 53884, 61879, 61878, 50781, 44, 41351, 1, 61785, 50781, 41351, 2, 44, 41351, 1, 53884, 61734, 50781, 1, 44, 61880, 61876, 61734, 1, 50781, 1, 44, 53884, 1, 61823, 61877, 53884, 61784, 1, 50781, 1, 3, 44, 41351, 61880, 61879, 50781, 61878, 41351, 44, 61735, 61879, 44, 61767, 1, 61878, 50781, 1, 44, 53884, 1, 44, 1, 53884, 1, 61879, 61876, 41351, 44, 1, 50781, 53884, 1, 44, 1, 61785, 53884, 1, 53884, 44, 1, 61879, 61880, 44, 61735, 61879, 44, 41351, 1, 50781, 61735, 1, 50781, 1, 44, 41351, 50781, 61877, 53884, 1, 44, 1, 44, 41351, 1, 41351, 53884, 1, 3, 44, 1, 61735, 61878, 1, 44, 1, 41351, 44, 61785, 50781, 1, 44, 61880, 61734, 50781, 1, 44, 1, 61879, 61879, 44, 53884, 41351, 1, 61823, 61877, 53884, 61784, 1, 50781, 1, 44, 1, 53884, 1, 50781, 1, 44, 1, 53884, 44, 1, 61767, 50781, 61767, 53884, 1, 3, 44, 61879, 1, 61879, 44, 1, 61876, 61877, 53884, 61784, 1, 44, 61880, 61735, 1, 44, 1, 50781, 44, 1, 61735, 61879, 53884, 44, 53884, 1, 53884, 1, 61877, 41351, 44, 1, 53884, 44, 1, 53884, 1, 41351, 44, 61879, 1, 0], [44, 1, 53884, 1, 44, 41351, 61767, 61878, 1, 50781, 61785, 1, 50781, 41351, 44, 41351, 61785, 1, 61734, 50781, 1, 0]], 'attention_mask': [[1, 1, 1, 1, 1, 1, 1, 1, 1, 1, 1, 1, 1, 1, 1, 1, 1, 1, 1, 1, 1, 1, 1, 1, 1, 1, 1, 1, 1, 1, 1, 1, 1, 1, 1, 1, 1, 1, 1, 1, 1, 1, 1, 1, 1, 1, 1, 1, 1, 1, 1, 1, 1, 1, 1, 1, 1, 1, 1, 1, 1, 1, 1, 1, 1, 1, 1, 1, 1, 1, 1, 1, 1, 1, 1, 1, 1, 1, 1, 1, 1, 1, 1, 1, 1, 1, 1, 1, 1, 1, 1, 1, 1, 1, 1, 1, 1, 1, 1, 1, 1, 1, 1, 1, 1, 1, 1, 1, 1, 1, 1, 1, 1, 1, 1, 1, 1, 1, 1, 1, 1, 1, 1, 1, 1, 1, 1, 1, 1, 1, 1, 1, 1, 1, 1, 1, 1, 1, 1, 1, 1, 1, 1, 1, 1, 1, 1, 1, 1, 1, 1, 1, 1, 1, 1, 1, 1, 1, 1, 1, 1, 1, 1, 1, 1, 1, 1, 1, 1, 1, 1, 1, 1, 1, 1, 1, 1, 1, 1, 1, 1, 1, 1, 1, 1, 1, 1, 1, 1, 1, 1, 1, 1, 1, 1, 1, 1, 1, 1, 1, 1, 1, 1, 1, 1, 1, 1, 1, 1, 1, 1, 1, 1, 1, 1, 1, 1, 1, 1, 1, 1, 1, 1, 1, 1, 1, 1, 1, 1, 1, 1, 1, 1, 1, 1, 1, 1, 1, 1, 1, 1, 1, 1, 1, 1, 1, 1, 1, 1, 1, 1, 1, 1, 1, 1, 1], [1, 1, 1, 1, 1, 1, 1, 1, 1, 1, 1, 1, 1, 1, 1, 1, 1, 1, 1, 1, 1, 1]], 'labels': [[81, 44, 13451, 44, 8906, 6439, 29102, 291, 68, 874, 4, 2498, 55623, 23, 16001, 363, 51474, 291, 44, 880, 896, 818, 1182, 1328, 2326, 21, 15319, 581, 758, 6635, 16969, 69, 35760, 16, 1659, 3447, 44, 8273, 16, 64, 4, 3914, 6716, 142, 16582, 5386, 1565, 142, 1245, 16, 2, 6984, 2991, 1731, 813, 19, 16, 44, 9529, 44329, 10, 44, 6502, 1565, 26687, 16, 1245, 16, 3, 81, 19, 1220, 16, 1245, 1565, 142, 2417, 8, 3947, 142, 292, 3022, 10, 44, 4066, 23, 12471, 1350, 3637, 4864, 1182, 232, 291, 21, 4, 44, 24694, 5049, 625, 8, 4, 2498, 55623, 6984, 2991, 1731, 813, 19, 16, 4, 7041, 10967, 818, 1731, 44, 16, 17029, 3, 198, 90, 44, 5093, 896, 1659, 1245, 667, 44, 7908, 19, 661, 44, 2991, 6532, 1987, 16, 145, 44, 2253, 10, 4, 5680, 6887, 51452, 16, 19, 661, 44, 10491, 16, 48679, 44, 3813, 4600, 44, 4418, 21, 44, 1659, 3, 1260, 292, 3826, 12471, 232, 2786, 120, 44, 1659, 16, 44, 818, 1731, 813, 44, 4413, 4738, 916, 6415, 813, 29102, 2417, 10, 21, 90, 4135, 292, 897, 142, 44, 34194, 896, 980, 5081, 1411, 4, 44, 6887, 1328, 2326, 3637, 1279, 2905, 4037, 8, 45985, 2417, 21, 90, 19, 661, 292, 3, 198, 625, 16, 8, 4, 44, 6887, 12064, 69, 0], [238, 43694, 1936, 4565, 2112, 292, 9647, 624, 2905, 3826, 4209, 1063, 16693, 142, 0]]}"
      ]
     },
     "execution_count": 13,
     "metadata": {},
     "output_type": "execute_result"
    }
   ],
   "source": [
    "preprocess_function(preprocessed_dataset[:2])"
   ]
  },
  {
   "cell_type": "code",
   "execution_count": 14,
   "metadata": {
    "colab": {
     "base_uri": "https://localhost:8080/",
     "height": 49,
     "referenced_widgets": [
      "1b12192ac2fc4e8abba1e634546d49af",
      "1e31e1c669c044e0b524e43bf77e9f0e",
      "23dab765bd104fbcabf000e159cd0296",
      "5c10ab7ebb2e47bd9e6842b9d0f38a3e",
      "9a3f02ee76a349faae9f5af511ba65c0",
      "96e7fa21d9a14c61b2b448799dde88e8",
      "000b2316f1ed42349e5e2b79f51392e8",
      "7ca904c63d6e41e98db8f8e284c4fbbf",
      "f0d0a03b7e964414872310bf18e424e8",
      "ef4a3d14bb9545b7ad826ef916021be2",
      "314ed6acee59486eafe627b00265a0cf"
     ]
    },
    "executionInfo": {
     "elapsed": 22985,
     "status": "ok",
     "timestamp": 1699976388413,
     "user": {
      "displayName": "AI X TREME",
      "userId": "04533600433496184875"
     },
     "user_tz": 480
    },
    "id": "PTzg3eWK4_FG",
    "outputId": "6c599873-c126-466e-cd23-ee044f3aa721"
   },
   "outputs": [
    {
     "data": {
      "application/vnd.jupyter.widget-view+json": {
       "model_id": "3cf4e9a0edc24ab4b85f72f427e8def2",
       "version_major": 2,
       "version_minor": 0
      },
      "text/plain": [
       "Map:   0%|          | 0/231 [00:00<?, ? examples/s]"
      ]
     },
     "metadata": {},
     "output_type": "display_data"
    }
   ],
   "source": [
    "tokenized_datasets = preprocessed_dataset.map(preprocess_function, batched=True)"
   ]
  },
  {
   "cell_type": "code",
   "execution_count": 15,
   "metadata": {
    "colab": {
     "base_uri": "https://localhost:8080/"
    },
    "executionInfo": {
     "elapsed": 22367,
     "status": "ok",
     "timestamp": 1699976410764,
     "user": {
      "displayName": "AI X TREME",
      "userId": "04533600433496184875"
     },
     "user_tz": 480
    },
    "id": "LEbE41CbU1bL",
    "outputId": "91278ab3-f8eb-47e3-b56b-0d51bd317924"
   },
   "outputs": [
    {
     "name": "stderr",
     "output_type": "stream",
     "text": [
      "All model checkpoint layers were used when initializing TFMarianMTModel.\n",
      "\n",
      "All the layers of TFMarianMTModel were initialized from the model checkpoint at tf_model/.\n",
      "If your task is similar to the task the model of the checkpoint was trained on, you can already use TFMarianMTModel for predictions without further training.\n"
     ]
    }
   ],
   "source": [
    "model = TFAutoModelForSeq2SeqLM.from_pretrained(\"tf_model/\")"
   ]
  },
  {
   "cell_type": "code",
   "execution_count": 16,
   "metadata": {
    "executionInfo": {
     "elapsed": 8,
     "status": "ok",
     "timestamp": 1699976410764,
     "user": {
      "displayName": "AI X TREME",
      "userId": "04533600433496184875"
     },
     "user_tz": 480
    },
    "id": "GOJU15XzX5iy"
   },
   "outputs": [],
   "source": [
    "batch_size = 16\n",
    "learning_rate = 2e-5\n",
    "weight_decay = 0.01\n",
    "num_train_epochs = 2"
   ]
  },
  {
   "cell_type": "code",
   "execution_count": 17,
   "metadata": {
    "executionInfo": {
     "elapsed": 8,
     "status": "ok",
     "timestamp": 1699976410765,
     "user": {
      "displayName": "AI X TREME",
      "userId": "04533600433496184875"
     },
     "user_tz": 480
    },
    "id": "NCoU8kNtX6Tk"
   },
   "outputs": [],
   "source": [
    "data_collator = DataCollatorForSeq2Seq(tokenizer, model=model, return_tensors=\"tf\")"
   ]
  },
  {
   "cell_type": "code",
   "execution_count": 18,
   "metadata": {
    "executionInfo": {
     "elapsed": 7,
     "status": "ok",
     "timestamp": 1699976410765,
     "user": {
      "displayName": "AI X TREME",
      "userId": "04533600433496184875"
     },
     "user_tz": 480
    },
    "id": "4IbSTkjuYZ8Z"
   },
   "outputs": [],
   "source": [
    "generation_data_collator = DataCollatorForSeq2Seq(tokenizer, model=model, return_tensors=\"tf\", pad_to_multiple_of=128)"
   ]
  },
  {
   "cell_type": "code",
   "execution_count": 19,
   "metadata": {
    "executionInfo": {
     "elapsed": 2119,
     "status": "ok",
     "timestamp": 1699976412877,
     "user": {
      "displayName": "AI X TREME",
      "userId": "04533600433496184875"
     },
     "user_tz": 480
    },
    "id": "AgvwEEvDZP7F"
   },
   "outputs": [],
   "source": [
    "train_dataset = model.prepare_tf_dataset(\n",
    "    tokenized_datasets,\n",
    "    batch_size=batch_size,\n",
    "    shuffle=True,\n",
    "    collate_fn=data_collator,\n",
    ")\n"
   ]
  },
  {
   "cell_type": "code",
   "execution_count": 20,
   "metadata": {
    "executionInfo": {
     "elapsed": 686,
     "status": "ok",
     "timestamp": 1699976413559,
     "user": {
      "displayName": "AI X TREME",
      "userId": "04533600433496184875"
     },
     "user_tz": 480
    },
    "id": "E_1LNLwvZQvD"
   },
   "outputs": [],
   "source": [
    "validation_dataset = model.prepare_tf_dataset(\n",
    "    tokenized_datasets,\n",
    "    batch_size=batch_size,\n",
    "    shuffle=False,\n",
    "    collate_fn=data_collator,\n",
    ")"
   ]
  },
  {
   "cell_type": "code",
   "execution_count": 21,
   "metadata": {
    "executionInfo": {
     "elapsed": 6,
     "status": "ok",
     "timestamp": 1699976413559,
     "user": {
      "displayName": "AI X TREME",
      "userId": "04533600433496184875"
     },
     "user_tz": 480
    },
    "id": "GYF9ApeHZTR5"
   },
   "outputs": [],
   "source": [
    "generation_dataset = model.prepare_tf_dataset(\n",
    "    tokenized_datasets,\n",
    "    batch_size=8,\n",
    "    shuffle=False,\n",
    "    collate_fn=generation_data_collator,\n",
    ")"
   ]
  },
  {
   "cell_type": "code",
   "execution_count": 22,
   "metadata": {
    "executionInfo": {
     "elapsed": 5,
     "status": "ok",
     "timestamp": 1699976413559,
     "user": {
      "displayName": "AI X TREME",
      "userId": "04533600433496184875"
     },
     "user_tz": 480
    },
    "id": "Wx6p1NQ_ZVXb"
   },
   "outputs": [],
   "source": [
    "optimizer = AdamWeightDecay(learning_rate=learning_rate, weight_decay_rate=weight_decay)\n",
    "model.compile(optimizer=optimizer, metrics=[\"accuracy\"])"
   ]
  },
  {
   "cell_type": "code",
   "execution_count": 23,
   "metadata": {
    "colab": {
     "base_uri": "https://localhost:8080/"
    },
    "executionInfo": {
     "elapsed": 2817160,
     "status": "ok",
     "timestamp": 1699979230714,
     "user": {
      "displayName": "AI X TREME",
      "userId": "04533600433496184875"
     },
     "user_tz": 480
    },
    "id": "oAzpyTz4aFfz",
    "outputId": "3bd26538-7862-4ad4-87f9-a5af7390b498"
   },
   "outputs": [
    {
     "name": "stdout",
     "output_type": "stream",
     "text": [
      "Epoch 1/20\n",
      "14/14 [==============================] - 440s 25s/step - loss: 0.0611 - accuracy: 0.1228 - val_loss: 0.0637 - val_accuracy: 0.1532\n",
      "Epoch 2/20\n",
      "14/14 [==============================] - 331s 24s/step - loss: 0.0828 - accuracy: 0.1443 - val_loss: 0.0594 - val_accuracy: 0.1533\n",
      "Epoch 3/20\n",
      "14/14 [==============================] - 293s 20s/step - loss: 0.0504 - accuracy: 0.1564 - val_loss: 0.0419 - val_accuracy: 0.1545\n",
      "Epoch 4/20\n",
      "14/14 [==============================] - 374s 24s/step - loss: 0.0569 - accuracy: 0.1260 - val_loss: 0.0394 - val_accuracy: 0.1550\n",
      "Epoch 5/20\n",
      "14/14 [==============================] - 379s 28s/step - loss: 0.0524 - accuracy: 0.1189 - val_loss: 0.0380 - val_accuracy: 0.1550\n",
      "Epoch 6/20\n",
      "14/14 [==============================] - 378s 28s/step - loss: 0.0510 - accuracy: 0.1213 - val_loss: 0.0407 - val_accuracy: 0.1547\n",
      "Epoch 7/20\n",
      "14/14 [==============================] - 314s 23s/step - loss: 0.0486 - accuracy: 0.1606 - val_loss: 0.0386 - val_accuracy: 0.1550\n",
      "Epoch 8/20\n",
      "14/14 [==============================] - 352s 25s/step - loss: 0.0532 - accuracy: 0.1368 - val_loss: 0.0384 - val_accuracy: 0.1551\n",
      "Epoch 9/20\n",
      "14/14 [==============================] - 341s 26s/step - loss: 0.0570 - accuracy: 0.1398 - val_loss: 0.0338 - val_accuracy: 0.1554\n",
      "Epoch 10/20\n",
      "14/14 [==============================] - 301s 22s/step - loss: 0.0450 - accuracy: 0.1526 - val_loss: 0.0359 - val_accuracy: 0.1550\n",
      "Epoch 11/20\n",
      "14/14 [==============================] - 347s 26s/step - loss: 0.0534 - accuracy: 0.1351 - val_loss: 0.0363 - val_accuracy: 0.1551\n",
      "Epoch 12/20\n",
      "14/14 [==============================] - 366s 28s/step - loss: 0.0408 - accuracy: 0.1244 - val_loss: 0.0380 - val_accuracy: 0.1548\n",
      "Epoch 13/20\n",
      "14/14 [==============================] - 346s 26s/step - loss: 0.0507 - accuracy: 0.1419 - val_loss: 0.0387 - val_accuracy: 0.1550\n",
      "Epoch 14/20\n",
      "14/14 [==============================] - 314s 24s/step - loss: 0.0514 - accuracy: 0.1534 - val_loss: 0.0366 - val_accuracy: 0.1552\n",
      "Epoch 15/20\n",
      "14/14 [==============================] - 342s 26s/step - loss: 0.0494 - accuracy: 0.1389 - val_loss: 0.0348 - val_accuracy: 0.1554\n",
      "Epoch 16/20\n",
      "14/14 [==============================] - 321s 22s/step - loss: 0.0521 - accuracy: 0.1514 - val_loss: 0.0356 - val_accuracy: 0.1552\n",
      "Epoch 17/20\n",
      "14/14 [==============================] - 367s 28s/step - loss: 0.0470 - accuracy: 0.1249 - val_loss: 0.0344 - val_accuracy: 0.1551\n",
      "Epoch 18/20\n",
      "14/14 [==============================] - 352s 26s/step - loss: 0.0444 - accuracy: 0.1335 - val_loss: 0.0358 - val_accuracy: 0.1552\n",
      "Epoch 19/20\n",
      "14/14 [==============================] - 346s 26s/step - loss: 0.0484 - accuracy: 0.1407 - val_loss: 0.0379 - val_accuracy: 0.1551\n",
      "Epoch 20/20\n",
      "14/14 [==============================] - 289s 22s/step - loss: 0.0606 - accuracy: 0.1604 - val_loss: 0.0341 - val_accuracy: 0.1554\n"
     ]
    }
   ],
   "source": [
    "history = model.fit(train_dataset, validation_data=validation_dataset, epochs=20)"
   ]
  },
  {
   "cell_type": "code",
   "execution_count": 24,
   "metadata": {
    "colab": {
     "base_uri": "https://localhost:8080/",
     "height": 410
    },
    "executionInfo": {
     "elapsed": 33,
     "status": "ok",
     "timestamp": 1699979230715,
     "user": {
      "displayName": "AI X TREME",
      "userId": "04533600433496184875"
     },
     "user_tz": 480
    },
    "id": "d8V0QiwNaFf0",
    "outputId": "9045140c-947a-4be1-c215-a07bc6a3d911"
   },
   "outputs": [
    {
     "data": {
      "image/png": "[encoded data removed]",
      "text/plain": [
       "<Figure size 1200x400 with 2 Axes>"
      ]
     },
     "metadata": {},
     "output_type": "display_data"
    }
   ],
   "source": [
    "import matplotlib.pyplot as plt\n",
    "\n",
    "# Specify the figure size\n",
    "plt.figure(figsize=(12, 4))\n",
    "\n",
    "# Plot training & validation accuracy values\n",
    "plt.subplot(1, 2, 1)\n",
    "plt.plot(history.history['accuracy'], label='Training Accuracy')\n",
    "plt.plot(history.history['val_accuracy'], label='Validation Accuracy')\n",
    "plt.title('Model accuracy')\n",
    "plt.xlabel('Epoch')\n",
    "plt.ylabel('Accuracy')\n",
    "plt.legend(loc='upper left')\n",
    "\n",
    "# Plot training & validation loss values\n",
    "plt.subplot(1, 2, 2)\n",
    "plt.plot(history.history['loss'], label='Training Loss')\n",
    "plt.plot(history.history['val_loss'], label='Validation Loss')\n",
    "plt.title('Model loss')\n",
    "plt.xlabel('Epoch')\n",
    "plt.ylabel('Loss')\n",
    "plt.legend(loc='upper left')\n",
    "\n",
    "plt.show()\n"
   ]
  },
  {
   "cell_type": "markdown",
   "metadata": {
    "id": "XcGNz4yrMY4F"
   },
   "source": [
    "# Model Testing"
   ]
  },
  {
   "cell_type": "code",
   "execution_count": 25,
   "metadata": {
    "executionInfo": {
     "elapsed": 8551,
     "status": "ok",
     "timestamp": 1699979239256,
     "user": {
      "displayName": "AI X TREME",
      "userId": "04533600433496184875"
     },
     "user_tz": 480
    },
    "id": "4EWkhFnyZ3Z8"
   },
   "outputs": [
    {
     "data": {
      "text/plain": [
       "('tf_model/tokenizer_config.json',\n",
       " 'tf_model/special_tokens_map.json',\n",
       " 'tf_model/vocab.json',\n",
       " 'tf_model/added_tokens.json')"
      ]
     },
     "execution_count": 25,
     "metadata": {},
     "output_type": "execute_result"
    }
   ],
   "source": [
    "model.save_pretrained(\"tf_model/\")\n",
    "tokenizer.save_pretrained(\"tf_model/\")"
   ]
  },
  {
   "cell_type": "code",
   "execution_count": 26,
   "metadata": {
    "colab": {
     "base_uri": "https://localhost:8080/",
     "height": 1000,
     "output_embedded_package_id": "1ZliFxLgNISySxOuyISCWTpmhjlFWXwJP",
     "referenced_widgets": [
      "003b7c118576443f8ae43bca7fd8c9ab",
      "fa92cdbd6f1b4e9c81a082220729748b",
      "1b350dc7bea149bbbed12998fb33d3ba",
      "c20d95680ad44132adb5eb57c350eb20",
      "dd4995501ab14c84a5c8a46c969d1d51",
      "a05d1efc0ded4f6c86667e011d64a1fe",
      "06b087b0ed0e41609e87c71233e59196",
      "aa4df897cd6f42b7b1961c24dfb47a96",
      "af5b5ba8b2a44ca7bad6fd1f8105081e",
      "524b7ccbe8654b36aa3ff7a929261370",
      "60dec80f98c44e0e803900b2a5bbfd16"
     ]
    },
    "id": "TTkqZ2fuLbd1",
    "outputId": "be62a198-58b5-4843-8c38-0a2d208bd54a"
   },
   "outputs": [],
   "source": [
    "# import matplotlib.pyplot as plt\n",
    "# from datasets import load_metric\n",
    "\n",
    "# sacrebleu = load_metric(\"sacrebleu\")\n",
    "\n",
    "# # Initialize a list to store generated translations\n",
    "# generated_translations = []\n",
    "\n",
    "# # Loop over the examples in the dataset\n",
    "# for i, example in enumerate(combined_dataset[\"train\"][\"hebrew\"][0:94]):\n",
    "#     # Take input text from the dataset\n",
    "#     input_text = example\n",
    "\n",
    "#     # Tokenize the input text\n",
    "#     tokenized = tokenizer([input_text], return_tensors='np')\n",
    "\n",
    "#     # Generate the text using the model\n",
    "#     out = model.generate(**tokenized, max_length= 128 , num_beams=1, no_repeat_ngram_size=2)\n",
    "\n",
    "#     # Decode the generated output\n",
    "#     with tokenizer.as_target_tokenizer():\n",
    "#         generated_text = tokenizer.decode(out[0], skip_special_tokens=True)\n",
    "\n",
    "#     # Append the generated translation to the list\n",
    "#     generated_translations.append(generated_text)\n",
    "\n",
    "#     # Print input text with the current value of i\n",
    "#     print(f\"{i + 1}. Input Text:\")\n",
    "#     print(input_text)\n",
    "\n",
    "#     # Print generated text with the current value of i\n",
    "#     print(f\"{i + 1}. Generated Text:\")\n",
    "#     print(generated_text)\n",
    "\n",
    "#     # Create a bar chart to visualize the text generation (uncomment if needed)\n",
    "#     # step_labels = [f\"Step {i+1}\" for i in range(len(generated_text))]\n",
    "#     # step_lengths = [len(tokenizer.decode(out[0][:i+1], skip_special_tokens=True)) for i in range(len(generated_text))]\n",
    "#     # plt.figure(figsize=(12, 4))\n",
    "#     # plt.bar(step_labels, step_lengths)\n",
    "#     # plt.xlabel(\"Generation Steps\")\n",
    "#     # plt.ylabel(\"Text Length\")\n",
    "#     # plt.title(\"Text Generation Process\")\n",
    "#     # plt.xticks(rotation=45)\n",
    "#     # plt.tight_layout()\n",
    "#     # plt.show()\n"
   ]
  },
  {
   "cell_type": "code",
   "execution_count": 27,
   "metadata": {
    "id": "Dm7H-IJ9aFf2"
   },
   "outputs": [
    {
     "name": "stderr",
     "output_type": "stream",
     "text": [
      "C:\\Users\\PCS\\AppData\\Local\\Temp\\ipykernel_7868\\3291091202.py:4: FutureWarning: load_metric is deprecated and will be removed in the next major version of datasets. Use 'evaluate.load' instead, from the new library 🤗 Evaluate: https://huggingface.co/docs/evaluate\n",
      "  sacrebleu = load_metric(\"sacrebleu\")\n"
     ]
    },
    {
     "ename": "NameError",
     "evalue": "name 'generated_translations' is not defined",
     "output_type": "error",
     "traceback": [
      "\u001b[1;31m---------------------------------------------------------------------------\u001b[0m",
      "\u001b[1;31mNameError\u001b[0m                                 Traceback (most recent call last)",
      "Cell \u001b[1;32mIn[27], line 11\u001b[0m\n\u001b[0;32m      8\u001b[0m refs \u001b[38;5;241m=\u001b[39m [[ref\u001b[38;5;241m.\u001b[39mstrip()] \u001b[38;5;28;01mfor\u001b[39;00m ref \u001b[38;5;129;01min\u001b[39;00m refs]\n\u001b[0;32m     10\u001b[0m \u001b[38;5;66;03m# Modify generated_translations to have each sentence in its own list\u001b[39;00m\n\u001b[1;32m---> 11\u001b[0m hypothesis \u001b[38;5;241m=\u001b[39m [[sentence] \u001b[38;5;28;01mfor\u001b[39;00m sentence \u001b[38;5;129;01min\u001b[39;00m \u001b[43mgenerated_translations\u001b[49m[:\u001b[38;5;241m94\u001b[39m]]\n\u001b[0;32m     13\u001b[0m \u001b[38;5;28mprint\u001b[39m(\u001b[38;5;124m\"\u001b[39m\u001b[38;5;124mReference Translations:-\u001b[39m\u001b[38;5;124m\"\u001b[39m)\n\u001b[0;32m     14\u001b[0m \u001b[38;5;28mprint\u001b[39m(refs)\n",
      "\u001b[1;31mNameError\u001b[0m: name 'generated_translations' is not defined"
     ]
    }
   ],
   "source": [
    "# Take top 10 rows for human-generated reference translation\n",
    "from datasets import load_metric\n",
    "\n",
    "sacrebleu = load_metric(\"sacrebleu\")\n",
    "refs = combined_dataset[\"train\"][\"english\"][0:94]\n",
    "\n",
    "# Remove leading spaces from reference translations\n",
    "refs = [[ref.strip()] for ref in refs]\n",
    "\n",
    "# Modify generated_translations to have each sentence in its own list\n",
    "hypothesis = [[sentence] for sentence in generated_translations[:94]]\n",
    "\n",
    "print(\"Reference Translations:-\")\n",
    "print(refs)\n",
    "print(\"Model Translation:-\")\n",
    "print(hypothesis)\n",
    "\n",
    "# Calculate BLEU score\n",
    "bleu = sacrebleu.compute(predictions=hypothesis, references=refs)\n",
    "print(f\"BLEU score: {bleu['score']}\")\n",
    "\n",
    "# Calculate character frequency (chr-F) score\n",
    "def calculate_chr_f(hypothesis, reference):\n",
    "    generated_chars = [char for word in hypothesis for char in word]\n",
    "    reference_chars = [char for word in reference for char in word]\n",
    "\n",
    "    if not generated_chars or not reference_chars:\n",
    "        return 0.0  # Return 0 if either list is empty to avoid division by zero\n",
    "\n",
    "    overlap = len(set(generated_chars).intersection(reference_chars))\n",
    "    precision = overlap / len(generated_chars)\n",
    "    recall = overlap / len(reference_chars)\n",
    "\n",
    "    if precision + recall == 0:\n",
    "        return 0.0  # Return 0 if the denominator is zero to avoid division by zero\n",
    "\n",
    "    f1_score = 2 * (precision * recall) / (precision + recall)\n",
    "    return f1_score\n",
    "\n",
    "\n",
    "# Initialize a list to store chr-F scores\n",
    "chr_f_scores = [calculate_chr_f(hypothesis, reference) for hypothesis, reference in zip(generated_translations, refs)]\n",
    "average_chr_f = sum(chr_f_scores) / len(chr_f_scores)\n",
    "\n",
    "# Print individual chr-F scores\n",
    "for i, score in enumerate(chr_f_scores):\n",
    "    print(f\"chr-F score {i+1}: {score:.3f}\")\n",
    "\n",
    "print(f\"Average chr-F score: {average_chr_f:.3f}\")\n",
    "\n",
    "sacrebleu.compute(predictions=hypothesis, references=refs)\n"
   ]
  },
  {
   "cell_type": "code",
   "execution_count": null,
   "metadata": {
    "id": "_WjVcYschmbn"
   },
   "outputs": [],
   "source": [
    "model.summary();"
   ]
  },
  {
   "cell_type": "code",
   "execution_count": null,
   "metadata": {
    "id": "VoUWbguDaFf3"
   },
   "outputs": [],
   "source": [
    "import matplotlib.pyplot as plt\n",
    "\n",
    "# Replace these with actual BLEU scores\n",
    "bleu_scores = [ 14.6, 3.7, 0.37, 14.85]  # Sample BLEU scores for different test sets\n",
    "sentences = [3, 100, 1000, 10000]  # Corresponding epochs\n",
    "\n",
    "plt.plot(sentences, bleu_scores, marker='o', linestyle='-')\n",
    "plt.title('BLEU Scores Over No of sentences')\n",
    "plt.xlabel('No of Sentences')\n",
    "plt.ylabel('BLEU Score')\n",
    "plt.grid(True)\n",
    "plt.show()\n",
    "\n",
    "\n",
    "chr_freq = [0.75, 0.52, 0.45, 0.73]  # Corresponding epochs\n",
    "\n",
    "plt.plot(chr_freq, bleu_scores, marker='o', linestyle='-')\n",
    "plt.title('BLEU Scores Over character_frequency')\n",
    "plt.xlabel('Character Frequency')\n",
    "plt.ylabel('BLEU Score')\n",
    "plt.grid(True)\n",
    "plt.show()\n"
   ]
  },
  {
   "cell_type": "code",
   "execution_count": null,
   "metadata": {
    "id": "hsu1OkffaFf3"
   },
   "outputs": [],
   "source": [
    "import matplotlib.pyplot as plt\n",
    "\n",
    "# Sample data (replace with your actual data)\n",
    "epochs = [1, 2, 3, 4, 5, 6,7,8,9,10,11,12,13,14,15,16,17,18,19,20,21,22,23,24,25,26,27,28,29,30,31,32,33,34,35,36,37,38,39,40,41,42,43,44,45,46,47,48,49,50,51,52]  # List of epochs\n",
    "train_loss = [1.84,1.60,1.50,1.42,1.28,1.17,1.09,1.01,0.94,0.88,0.82,0.77,1.05,0.94,0.86,0.80,0.74,0.69,0.65,0.60,0.57,0.53,0.50,0.47,0.44,0.41,0.39,0.37,0.35,0.29,0.27,0.26,0.24,0.72,0.66,0.63,0.60,0.57,0.54,0.52,0.50,0.48,0.46,0.42,0.40,0.39,0.38,0.35,0.34,0.29,0.28,0.26]  # Training loss for each epoch\n",
    "train_accuracy = [0.22,0.24,0.25,0.33,0.34,0.35,0.36,0.37,0.38,0.38,0.39,0.40,0.38,0.39,0.40,0.40,0.41,0.42,0.42,0.43,0.43,0.44,0.44,0.44,0.45,0.45,0.45,0.46,0.46,0.47,0.47,0.47,0.47,0.43,0.44,0.44,0.45,0.45,0.46,0.46,0.46,0.46,0.47,0.47,0.47,0.48,0.48,0.48,0.48,0.49,0.49,0.50]  # Training accuracy for each epoch\n",
    "val_loss = [1.56,1.34,1.24,1.13,1.01,0.91,0.83,0.76,0.69,0.63,0.58,0.53,0.83,0.75,0.67,0.61,0.56,0.51,0.47,0.43,0.39,0.36,0.33,0.30,0.28,0.25,0.23,0.21,0.20,0.15,0.14,0.13,0.12,0.52,0.48,0.46,0.43,0.41,0.39,0.37,0.35,0.34,0.32,0.29,0.28,0.27,0.27,0.25,0.24,0.22,0.21,0.20]  # Validation loss for each epoch\n",
    "val_accuracy = [0.52,0.56,0.58,0.61,0.63,0.65,0.67,0.68,0.69,0.71,0.72,0.73,0.67,0.68,0.70,0.71,0.72,0.73,0.74,0.75,0.76,0.76,0.77,0.78,0.78,0.79,0.79,0.80,0.80,0.81,0.81,0.82,0.82,0.72,0.73,0.74,0.74,0.75,0.75,0.76,0.76,0.77,0.77,0.78,0.78,0.78,0.78,0.79,0.79,0.79,0.80,0.80]  # Validation accuracy for each epoch\n",
    "# Specify the file path\n",
    "file_path = 'training_data.txt'\n",
    "epoch_num = 52 \n",
    "# Open the file in write mode\n",
    "with open(file_path, 'w') as file:\n",
    "    # Write the header\n",
    "    file.write(\"Epoch\\tTraining Loss\\tTraining Accuracy\\tValidation Loss\\t\\tValidation Accuracy\\n\")\n",
    "\n",
    "    # Write data line by line\n",
    "    for epoch, (epoch_num, train_l, train_acc, val_l, val_acc) in enumerate(zip(epochs, train_loss, train_accuracy, val_loss, val_accuracy), start=1):\n",
    "        file.write(f\"{epoch_num}\\t\\t{train_l:.4f}\\t\\t\\t{train_acc:.4f}\\t\\t\\t\\t{val_l:.4f}\\t\\t\\t\\t{val_acc:.4f}\\n\")\n",
    "\n",
    "# Print a message indicating successful file creation\n",
    "print(f\"Data has been saved to {file_path}\")\n",
    "\n",
    "# Plot training and validation loss\n",
    "plt.figure(figsize=(12, 4))\n",
    "\n",
    "plt.subplot(1, 2, 1)\n",
    "plt.plot(epochs, train_loss, marker='o', label='Training Loss')\n",
    "plt.plot(epochs, val_loss, marker='o', label='Validation Loss')\n",
    "plt.title('Loss Over Epochs')\n",
    "plt.xlabel('Epochs')\n",
    "plt.ylabel('Loss')\n",
    "plt.legend(loc='upper right')\n",
    "plt.grid(True)\n",
    "\n",
    "# Plot training and validation accuracy\n",
    "plt.subplot(1, 2, 2)\n",
    "plt.plot(epochs, train_accuracy, marker='o', label='Training Accuracy')\n",
    "plt.plot(epochs, val_accuracy, marker='o', label='Validation Accuracy')\n",
    "plt.title('Accuracy Over Epochs')\n",
    "plt.xlabel('Epochs')\n",
    "plt.ylabel('Accuracy')\n",
    "plt.legend(loc='lower right')\n",
    "plt.grid(True)\n",
    "\n",
    "plt.tight_layout()\n",
    "plt.show()\n"
   ]
  },
  {
   "cell_type": "code",
   "execution_count": null,
   "metadata": {},
   "outputs": [],
   "source": [
    "import matplotlib.pyplot as plt\n",
    "\n",
    "# Data\n",
    "test_sets = ['newsdev2014.eng.hin', 'newstest2014-hien.eng.hin', 'Tatoeba-test.eng.hin', 'AncientLanguageTranslation2023.heb-eng']\n",
    "bleu_scores = [7.0, 9.9, 16.1, 14.85]\n",
    "chr_f_scores = [0.297, 0.323, 0.447, 0.730]\n",
    "bp_scores = [1.000, 0.938, 1.000, 1.000]\n",
    "\n",
    "# Plotting\n",
    "fig, ax1 = plt.subplots(figsize=(14, 6))  # Increase the figure width\n",
    "\n",
    "# Plot BLEU scores with brown color\n",
    "color = 'tab:red'  # Use brown color\n",
    "ax1.set_xlabel('Test Sets')\n",
    "ax1.set_ylabel('BLEU', color=color)\n",
    "ax1.bar(test_sets, bleu_scores, color=color)\n",
    "ax1.tick_params(axis='y', labelcolor=color)\n",
    "\n",
    "# Create a second y-axis for chr-F and BP scores\n",
    "ax2 = ax1.twinx()\n",
    "color_chr_f = 'tab:blue'\n",
    "color_bp = 'tab:green'\n",
    "ax2.set_ylabel('chr-F / BP', color=color_chr_f)\n",
    "ax2.plot(test_sets, chr_f_scores, color=color_chr_f, marker='o', label='chr-F')\n",
    "ax2.plot(test_sets, bp_scores, color=color_bp, marker='o', label='BP')\n",
    "ax2.tick_params(axis='y', labelcolor=color_chr_f)\n",
    "\n",
    "# Highlight AncientLanguageTranslation2023.heb-eng with brown color\n",
    "highlight_test_set = 'AncientLanguageTranslation2023.heb-eng'\n",
    "highlight_index = test_sets.index(highlight_test_set)\n",
    "ax1.get_children()[highlight_index].set_facecolor('saddlebrown')  # Use darkred to highlight\n",
    "\n",
    "# Show legend\n",
    "fig.tight_layout()\n",
    "fig.legend(loc='upper left', bbox_to_anchor=(0.1, 0.9))\n",
    "\n",
    "# Title and display\n",
    "plt.title('Comparison of Translation Metrics for Different Test Sets')\n",
    "plt.show()\n",
    "plt.savefig('comparison_graphs.png')"
   ]
  },
  {
   "cell_type": "code",
   "execution_count": null,
   "metadata": {},
   "outputs": [],
   "source": [
    "import matplotlib.pyplot as plt\n",
    "\n",
    "# Data\n",
    "bleu_scores = [14.6, 3.7, 0.37, 6.22, 14.85]\n",
    "sentences = [3, 100, 1000,13270, 10000]\n",
    "chr_frequency = [0.75, 0.52, 0.45, 0.56, 0.73]\n",
    "data_points_sentences = ['3 sentences', '100 sentences', '1000 sentences',  '13270 sentences', '10000 sentences']\n",
    "data_points_chr_frequency = ['0.75 chr-F', '0.52 chr-F', '0.45 chr-F', '0.56 chr-F', '0.73 chr-F']\n",
    "\n",
    "# Plotting BLEU Scores versus Sentences\n",
    "fig, ax1 = plt.subplots(figsize=(10, 6))\n",
    "\n",
    "color_bleu = 'tab:red'\n",
    "ax1.set_xlabel('Data Points')\n",
    "ax1.set_ylabel('BLEU Scores', color=color_bleu)\n",
    "ax1.bar(data_points_sentences, bleu_scores, color=color_bleu)\n",
    "ax1.tick_params(axis='y', labelcolor=color_bleu)\n",
    "\n",
    "ax2 = ax1.twinx()\n",
    "color_sentence = 'tab:blue'\n",
    "ax2.set_ylabel('Sentences', color=color_sentence)\n",
    "ax2.plot(data_points_sentences, sentences, color=color_sentence, marker='o', label='Sentences')\n",
    "ax2.tick_params(axis='y', labelcolor=color_sentence)\n",
    "\n",
    "fig.tight_layout()\n",
    "fig.legend(loc='upper left', bbox_to_anchor=(0.1, 0.9))\n",
    "\n",
    "plt.title('BLEU Scores versus Sentences')\n",
    "plt.show()\n",
    "\n",
    "# Plotting BLEU Scores versus Character Frequency\n",
    "fig, ax1 = plt.subplots(figsize=(10, 6))\n",
    "\n",
    "ax1.set_xlabel('Data Points')\n",
    "ax1.set_ylabel('BLEU Scores', color=color_bleu)\n",
    "ax1.bar(data_points_chr_frequency, bleu_scores, color=color_bleu)\n",
    "ax1.tick_params(axis='y', labelcolor=color_bleu)\n",
    "\n",
    "ax2 = ax1.twinx()\n",
    "color_chr_frequency = 'tab:green'\n",
    "ax2.set_ylabel('Character Frequency', color=color_chr_frequency)\n",
    "ax2.plot(data_points_chr_frequency, chr_frequency, color=color_chr_frequency, marker='o', label='Character Frequency')\n",
    "ax2.tick_params(axis='y', labelcolor=color_chr_frequency)\n",
    "\n",
    "fig.tight_layout()\n",
    "fig.legend(loc='upper left', bbox_to_anchor=(0.1, 0.9))\n",
    "\n",
    "plt.title('BLEU Scores versus Character Frequency')\n",
    "plt.show()\n"
   ]
  },
  {
   "cell_type": "code",
   "execution_count": null,
   "metadata": {},
   "outputs": [],
   "source": [
    "import matplotlib.pyplot as plt\n",
    "import numpy as np\n",
    "\n",
    "# Data\n",
    "algorithms = ['LSTM', 'Transformer']\n",
    "num_sentences = [10000, 180000]\n",
    "accuracy = [0.9988, 0.46]\n",
    "val_acc = [0.8133, 0.80]\n",
    "loss = [0.0047, 0.37]\n",
    "val_loss = [1.7004, 0.21]\n",
    "\n",
    "# Plotting\n",
    "fig, axs = plt.subplots(2, 2, figsize=(12, 10))\n",
    "fig.suptitle('Comparison of LSTM and Transformer', fontsize=16)\n",
    "\n",
    "# Bar chart for Number of Sentences\n",
    "axs[0, 0].bar(algorithms, num_sentences, color=['skyblue', 'lightcoral'])\n",
    "axs[0, 0].set_ylabel('Number of Sentences')\n",
    "\n",
    "# Grouped bar chart for Accuracy and Val_acc\n",
    "bar_width = 0.35\n",
    "index = np.arange(len(algorithms))\n",
    "axs[0, 1].bar(index - bar_width/2, accuracy, bar_width, label='Accuracy', color='skyblue')\n",
    "axs[0, 1].bar(index + bar_width/2, val_acc, bar_width, label='Val_acc', color='lightcoral')\n",
    "axs[0, 1].set_xticks(index)\n",
    "axs[0, 1].set_xticklabels(algorithms)\n",
    "axs[0, 1].legend()\n",
    "axs[0, 1].set_ylabel('Accuracy / Val_acc')\n",
    "\n",
    "# Grouped bar chart for Loss and Val_loss\n",
    "axs[1, 0].bar(index - bar_width/2, loss, bar_width, label='Loss', color='skyblue')\n",
    "axs[1, 0].bar(index + bar_width/2, val_loss, bar_width, label='Val_loss', color='lightcoral')\n",
    "axs[1, 0].set_xticks(index)\n",
    "axs[1, 0].set_xticklabels(algorithms)\n",
    "axs[1, 0].legend()\n",
    "axs[1, 0].set_ylabel('Loss / Val_loss')\n",
    "\n",
    "# Remove empty subplot\n",
    "fig.delaxes(axs[1, 1])\n",
    "\n",
    "# Adjust layout\n",
    "plt.tight_layout(rect=[0, 0.03, 1, 0.95])\n",
    "\n",
    "# Save the figure\n",
    "plt.savefig('comparison_graphs.png')\n",
    "\n",
    "# Show the figure\n",
    "plt.show()\n"
   ]
  },
  {
   "cell_type": "code",
   "execution_count": null,
   "metadata": {},
   "outputs": [],
   "source": [
    "from datasets import load_metric\n",
    "from transformers import AutoTokenizer, TFAutoModelForSeq2SeqLM\n",
    "import matplotlib.pyplot as plt\n",
    "\n",
    "sacrebleu = load_metric(\"sacrebleu\")\n",
    "model_checkpoint = \"tf_model\"\n",
    "tokenizer = AutoTokenizer.from_pretrained(model_checkpoint)\n",
    "model = TFAutoModelForSeq2SeqLM.from_pretrained(\"tf_model/\")\n",
    "\n",
    "# Initialize a list to store generated translations\n",
    "generated_translations = []\n",
    "\n",
    "# Continue the loop until the user presses 'c'\n",
    "while True:\n",
    "    # Take input text from the user\n",
    "    input_text = input(\"Enter input text (or 'c' to terminate): \")\n",
    "\n",
    "    # Check if the user wants to terminate the loop\n",
    "    if input_text.lower() == 'c':\n",
    "        print(\"Terminating the loop.\")\n",
    "        break\n",
    "\n",
    "    # Preprocess input: Skip very short inputs\n",
    "    if len(input_text) < 1:\n",
    "        print(\"Input text is too short. Skipping.\")\n",
    "        continue\n",
    "\n",
    "    # Tokenize the input text\n",
    "    tokenized = tokenizer([input_text], return_tensors='np')\n",
    "\n",
    "    # Generate the text using the model with max_length set dynamically\n",
    "    out = model.generate(**tokenized, max_length= len(input_text)+2, num_beams=1, no_repeat_ngram_size=2)\n",
    "\n",
    "    # Decode the generated output\n",
    "    with tokenizer.as_target_tokenizer():\n",
    "        generated_text = tokenizer.decode(out[0], skip_special_tokens=True)\n",
    "\n",
    "\n",
    "    print(\"\\nInput Text:\")\n",
    "    print(input_text)\n",
    "    # Print the final generated text\n",
    "    print(\"\\nGenerated Text:\")\n",
    "    print(generated_text)\n",
    "    print(\"\\n---\\n\")\n"
   ]
  },
  {
   "cell_type": "code",
   "execution_count": null,
   "metadata": {},
   "outputs": [],
   "source": [
    "from datasets import load_metric\n",
    "from transformers import AutoTokenizer, TFAutoModelForSeq2SeqLM\n",
    "import re\n",
    "\n",
    "sacrebleu = load_metric(\"sacrebleu\")\n",
    "model_checkpoint = \"tf_model\"\n",
    "tokenizer = AutoTokenizer.from_pretrained(model_checkpoint)\n",
    "model = TFAutoModelForSeq2SeqLM.from_pretrained(\"tf_model/\")\n",
    "\n",
    "# Continue the loop until the user presses 'c'\n",
    "while True:\n",
    "    # Take input text from the user\n",
    "    input_text = input(\"Enter input text (or 'c' to terminate): \")\n",
    "\n",
    "    # Check if the user wants to terminate the loop\n",
    "    if input_text.lower() == 'c':\n",
    "        print(\"Terminating the loop.\")\n",
    "        break\n",
    "\n",
    "    # Preprocess input: Skip very short inputs\n",
    "    if len(input_text) < 1:\n",
    "        print(\"Input text is too short. Skipping.\")\n",
    "        continue\n",
    "\n",
    "    words = re.findall(r'\\b\\w+\\b', input_text)\n",
    "    \n",
    "    # Check if any of the characters are English characters or numerals\n",
    "    if any(char.isascii() or char.isdigit() for char in ''.join(words)):\n",
    "        # If any of the characters are English characters or numerals, set generated text using word-based logic\n",
    "        processed_text2 = \"\"\n",
    "\n",
    "        for word in words:\n",
    "            if any(not char.isascii() and not char.isdigit() for char in word):\n",
    "                # Separate Hebrew, English, and numbers\n",
    "                hebrew_part = ''.join(char for char in word if not char.isascii() and not char.isdigit())\n",
    "                english_number_part = ''.join(char for char in word if char.isascii() or char.isdigit())\n",
    "\n",
    "                # Translate the Hebrew part\n",
    "                tokenized = tokenizer([hebrew_part], return_tensors='np')\n",
    "                out = model.generate(**tokenized, max_length=len(hebrew_part) + 2, num_beams=1, no_repeat_ngram_size=2)\n",
    "                with tokenizer.as_target_tokenizer():\n",
    "                    generated_word = tokenizer.decode(out[0], skip_special_tokens=True)\n",
    "\n",
    "                # Combine the translated Hebrew with the English and numbers\n",
    "                processed_text2 += generated_word + english_number_part + \" \"\n",
    "            else:\n",
    "                processed_text2 += word + \" \"\n",
    "\n",
    "        print(\"\\nGenerated Text2:\")\n",
    "        print(processed_text2.strip())  # Remove trailing space\n",
    "        print(\"\\n---\\n\")\n",
    "\n",
    "    else:\n",
    "        # If none of the characters are English characters or numerals, set generated text using sentence-based logic\n",
    "        tokenized = tokenizer([input_text], return_tensors='np')\n",
    "        out = model.generate(**tokenized, max_length=len(input_text) + 2, num_beams=1, no_repeat_ngram_size=2)\n",
    "        with tokenizer.as_target_tokenizer():\n",
    "            processed_text1 = tokenizer.decode(out[0], skip_special_tokens=True)\n",
    "            print(\"\\nInput Text:\")\n",
    "            print(input_text)\n",
    "            # Print the final generated text\n",
    "            print(\"\\nGenerated Text1:\")\n",
    "            print(processed_text1.strip())  # Remove trailing space\n",
    "            print(\"\\n---\\n\")\n"
   ]
  },
  {
   "cell_type": "code",
   "execution_count": null,
   "metadata": {},
   "outputs": [],
   "source": [
    "# from googletrans import Translator\n",
    "# import time\n",
    "\n",
    "# def translate_hebrew_file(input_file, output_file, error_file):\n",
    "#     # Create a Translator object with custom service URLs\n",
    "#     translator = Translator(service_urls=['translate.google.com'])\n",
    "\n",
    "#     # Read lines from the input file\n",
    "#     with open(input_file, 'r', encoding='utf-8') as file:\n",
    "#         lines = file.readlines()\n",
    "\n",
    "#     # Record start time for execution measurement\n",
    "#     start_time = time.time()\n",
    "\n",
    "#     # Open output and error log files for writing\n",
    "#     with open(output_file, 'w', encoding='utf-8') as output, open(error_file, 'w', encoding='utf-8') as error_log:\n",
    "#         # Iterate through each line in the input file\n",
    "#         for line in lines:\n",
    "#             # Strip leading and trailing whitespaces\n",
    "#             line = line.strip()\n",
    "\n",
    "#             # Check if the line is not empty\n",
    "#             if line:\n",
    "#                 try:\n",
    "#                     # Translate from Hebrew to English\n",
    "#                     translation = translator.translate(line, src='he', dest='en')\n",
    "\n",
    "#                     # Check if the translation text is not empty\n",
    "#                     if translation.text:\n",
    "#                         english_text = translation.text\n",
    "#                         # Write the original Hebrew and translated English text to the output file\n",
    "#                         output.write(f\"{line} \\t {english_text}\\n\")\n",
    "#                     else:\n",
    "#                         # Write the original Hebrew line to the error log if translation text is empty\n",
    "#                         error_log.write(f\"{line}\\n\")\n",
    "#                 except Exception as e:\n",
    "#                     # Write the original Hebrew line to the error log in case of an exception\n",
    "#                     error_log.write(f\"{line}\\n\")\n",
    "\n",
    "#     # Record end time for execution measurement\n",
    "#     end_time = time.time()\n",
    "#     execution_time = end_time - start_time\n",
    "#     print(f\"Translation completed in {execution_time} seconds.\")\n",
    "\n",
    "# # Example usage\n",
    "# input_file = \"hebrew_file.txt\"\n",
    "# output_file = \"translated_file.txt\"\n",
    "# error_file = \"translation_errors.txt\"\n",
    "\n",
    "# translate_hebrew_file(input_file, output_file, error_file)\n"
   ]
  },
  {
   "cell_type": "code",
   "execution_count": null,
   "metadata": {},
   "outputs": [],
   "source": [
    "# !pip install googletrans==4.0.0-rc1"
   ]
  },
  {
   "cell_type": "code",
   "execution_count": null,
   "metadata": {},
   "outputs": [],
   "source": [
    "# # Function to read content from a file and return it as a list of lines\n",
    "# def read_file(file_path):\n",
    "#     with open(file_path, 'r', encoding='utf-8') as file:\n",
    "#         return file.readlines()\n",
    "\n",
    "# # Function to write content to a file\n",
    "# def write_file(file_path, content):\n",
    "#     with open(file_path, 'w', encoding='utf-8') as file:\n",
    "#         file.writelines(content)\n",
    "\n",
    "# # File paths\n",
    "# file1_path = 'file1.txt'\n",
    "# file2_path = 'file2.txt'\n",
    "# output_path = 'Pheonecian.txt'\n",
    "\n",
    "# # Read content from the two files\n",
    "# file1_content = read_file(file1_path)\n",
    "# file2_content = read_file(file2_path)\n",
    "\n",
    "# # Ensure both files have the same number of lines\n",
    "# min_length = min(len(file1_content), len(file2_content))\n",
    "# file1_content = file1_content[:min_length]\n",
    "# file2_content = file2_content[:min_length]\n",
    "\n",
    "# # Combine content with tab space between them\n",
    "# combined_content = [f\"{file1_line.strip()}\\t{file2_line.strip()}\\n\" for file1_line, file2_line in zip(file1_content, file2_content)]\n",
    "\n",
    "# # Write the combined content to the output file\n",
    "# write_file(output_path, combined_content)\n",
    "\n",
    "# print(f\"Combined content has been written to {output_path}\")\n"
   ]
  },
  {
   "cell_type": "code",
   "execution_count": null,
   "metadata": {},
   "outputs": [],
   "source": []
  }
 ],
 "metadata": {
  "accelerator": "TPU",
  "colab": {
   "provenance": []
  },
  "kernelspec": {
   "display_name": "Python 3 (ipykernel)",
   "language": "python",
   "name": "python3"
  },
  "language_info": {
   "codemirror_mode": {
    "name": "ipython",
    "version": 3
   },
   "file_extension": ".py",
   "mimetype": "text/x-python",
   "name": "python",
   "nbconvert_exporter": "python",
   "pygments_lexer": "ipython3",
   "version": "3.11.5"
  },
  "widgets": {
   "application/vnd.jupyter.widget-state+json": {
    "000b2316f1ed42349e5e2b79f51392e8": {
     "model_module": "@jupyter-widgets/controls",
     "model_module_version": "1.5.0",
     "model_name": "DescriptionStyleModel",
     "state": {
      "_model_module": "@jupyter-widgets/controls",
      "_model_module_version": "1.5.0",
      "_model_name": "DescriptionStyleModel",
      "_view_count": null,
      "_view_module": "@jupyter-widgets/base",
      "_view_module_version": "1.2.0",
      "_view_name": "StyleView",
      "description_width": ""
     }
    },
    "003b7c118576443f8ae43bca7fd8c9ab": {
     "model_module": "@jupyter-widgets/controls",
     "model_module_version": "1.5.0",
     "model_name": "HBoxModel",
     "state": {
      "_dom_classes": [],
      "_model_module": "@jupyter-widgets/controls",
      "_model_module_version": "1.5.0",
      "_model_name": "HBoxModel",
      "_view_count": null,
      "_view_module": "@jupyter-widgets/controls",
      "_view_module_version": "1.5.0",
      "_view_name": "HBoxView",
      "box_style": "",
      "children": [
       "IPY_MODEL_fa92cdbd6f1b4e9c81a082220729748b",
       "IPY_MODEL_1b350dc7bea149bbbed12998fb33d3ba",
       "IPY_MODEL_c20d95680ad44132adb5eb57c350eb20"
      ],
      "layout": "IPY_MODEL_dd4995501ab14c84a5c8a46c969d1d51"
     }
    },
    "019fdac33c3e4de6b2968c078e32972d": {
     "model_module": "@jupyter-widgets/controls",
     "model_module_version": "1.5.0",
     "model_name": "DescriptionStyleModel",
     "state": {
      "_model_module": "@jupyter-widgets/controls",
      "_model_module_version": "1.5.0",
      "_model_name": "DescriptionStyleModel",
      "_view_count": null,
      "_view_module": "@jupyter-widgets/base",
      "_view_module_version": "1.2.0",
      "_view_name": "StyleView",
      "description_width": ""
     }
    },
    "06b087b0ed0e41609e87c71233e59196": {
     "model_module": "@jupyter-widgets/controls",
     "model_module_version": "1.5.0",
     "model_name": "DescriptionStyleModel",
     "state": {
      "_model_module": "@jupyter-widgets/controls",
      "_model_module_version": "1.5.0",
      "_model_name": "DescriptionStyleModel",
      "_view_count": null,
      "_view_module": "@jupyter-widgets/base",
      "_view_module_version": "1.2.0",
      "_view_name": "StyleView",
      "description_width": ""
     }
    },
    "1b12192ac2fc4e8abba1e634546d49af": {
     "model_module": "@jupyter-widgets/controls",
     "model_module_version": "1.5.0",
     "model_name": "HBoxModel",
     "state": {
      "_dom_classes": [],
      "_model_module": "@jupyter-widgets/controls",
      "_model_module_version": "1.5.0",
      "_model_name": "HBoxModel",
      "_view_count": null,
      "_view_module": "@jupyter-widgets/controls",
      "_view_module_version": "1.5.0",
      "_view_name": "HBoxView",
      "box_style": "",
      "children": [
       "IPY_MODEL_1e31e1c669c044e0b524e43bf77e9f0e",
       "IPY_MODEL_23dab765bd104fbcabf000e159cd0296",
       "IPY_MODEL_5c10ab7ebb2e47bd9e6842b9d0f38a3e"
      ],
      "layout": "IPY_MODEL_9a3f02ee76a349faae9f5af511ba65c0"
     }
    },
    "1b350dc7bea149bbbed12998fb33d3ba": {
     "model_module": "@jupyter-widgets/controls",
     "model_module_version": "1.5.0",
     "model_name": "FloatProgressModel",
     "state": {
      "_dom_classes": [],
      "_model_module": "@jupyter-widgets/controls",
      "_model_module_version": "1.5.0",
      "_model_name": "FloatProgressModel",
      "_view_count": null,
      "_view_module": "@jupyter-widgets/controls",
      "_view_module_version": "1.5.0",
      "_view_name": "ProgressView",
      "bar_style": "success",
      "description": "",
      "description_tooltip": null,
      "layout": "IPY_MODEL_aa4df897cd6f42b7b1961c24dfb47a96",
      "max": 2849,
      "min": 0,
      "orientation": "horizontal",
      "style": "IPY_MODEL_af5b5ba8b2a44ca7bad6fd1f8105081e",
      "value": 2849
     }
    },
    "1e31e1c669c044e0b524e43bf77e9f0e": {
     "model_module": "@jupyter-widgets/controls",
     "model_module_version": "1.5.0",
     "model_name": "HTMLModel",
     "state": {
      "_dom_classes": [],
      "_model_module": "@jupyter-widgets/controls",
      "_model_module_version": "1.5.0",
      "_model_name": "HTMLModel",
      "_view_count": null,
      "_view_module": "@jupyter-widgets/controls",
      "_view_module_version": "1.5.0",
      "_view_name": "HTMLView",
      "description": "",
      "description_tooltip": null,
      "layout": "IPY_MODEL_96e7fa21d9a14c61b2b448799dde88e8",
      "placeholder": "​",
      "style": "IPY_MODEL_000b2316f1ed42349e5e2b79f51392e8",
      "value": "Map: 100%"
     }
    },
    "2049d76ea8bb4fdf96f3fe9b059b6577": {
     "model_module": "@jupyter-widgets/controls",
     "model_module_version": "1.5.0",
     "model_name": "HBoxModel",
     "state": {
      "_dom_classes": [],
      "_model_module": "@jupyter-widgets/controls",
      "_model_module_version": "1.5.0",
      "_model_name": "HBoxModel",
      "_view_count": null,
      "_view_module": "@jupyter-widgets/controls",
      "_view_module_version": "1.5.0",
      "_view_name": "HBoxView",
      "box_style": "",
      "children": [
       "IPY_MODEL_7e0cda89d5ba496fa3f15239d9e9ab5a",
       "IPY_MODEL_9248c477e2124d3d91388fcacdfd02ce",
       "IPY_MODEL_bee804fb1a9640268e9af1b4cb2310f2"
      ],
      "layout": "IPY_MODEL_8ca182a1aa62421395caa585f5428347"
     }
    },
    "23dab765bd104fbcabf000e159cd0296": {
     "model_module": "@jupyter-widgets/controls",
     "model_module_version": "1.5.0",
     "model_name": "FloatProgressModel",
     "state": {
      "_dom_classes": [],
      "_model_module": "@jupyter-widgets/controls",
      "_model_module_version": "1.5.0",
      "_model_name": "FloatProgressModel",
      "_view_count": null,
      "_view_module": "@jupyter-widgets/controls",
      "_view_module_version": "1.5.0",
      "_view_name": "ProgressView",
      "bar_style": "success",
      "description": "",
      "description_tooltip": null,
      "layout": "IPY_MODEL_7ca904c63d6e41e98db8f8e284c4fbbf",
      "max": 135801,
      "min": 0,
      "orientation": "horizontal",
      "style": "IPY_MODEL_f0d0a03b7e964414872310bf18e424e8",
      "value": 135801
     }
    },
    "27644b541d354144ab648973fae1413b": {
     "model_module": "@jupyter-widgets/controls",
     "model_module_version": "1.5.0",
     "model_name": "ProgressStyleModel",
     "state": {
      "_model_module": "@jupyter-widgets/controls",
      "_model_module_version": "1.5.0",
      "_model_name": "ProgressStyleModel",
      "_view_count": null,
      "_view_module": "@jupyter-widgets/base",
      "_view_module_version": "1.2.0",
      "_view_name": "StyleView",
      "bar_color": null,
      "description_width": ""
     }
    },
    "314ed6acee59486eafe627b00265a0cf": {
     "model_module": "@jupyter-widgets/controls",
     "model_module_version": "1.5.0",
     "model_name": "DescriptionStyleModel",
     "state": {
      "_model_module": "@jupyter-widgets/controls",
      "_model_module_version": "1.5.0",
      "_model_name": "DescriptionStyleModel",
      "_view_count": null,
      "_view_module": "@jupyter-widgets/base",
      "_view_module_version": "1.2.0",
      "_view_name": "StyleView",
      "description_width": ""
     }
    },
    "524b7ccbe8654b36aa3ff7a929261370": {
     "model_module": "@jupyter-widgets/base",
     "model_module_version": "1.2.0",
     "model_name": "LayoutModel",
     "state": {
      "_model_module": "@jupyter-widgets/base",
      "_model_module_version": "1.2.0",
      "_model_name": "LayoutModel",
      "_view_count": null,
      "_view_module": "@jupyter-widgets/base",
      "_view_module_version": "1.2.0",
      "_view_name": "LayoutView",
      "align_content": null,
      "align_items": null,
      "align_self": null,
      "border": null,
      "bottom": null,
      "display": null,
      "flex": null,
      "flex_flow": null,
      "grid_area": null,
      "grid_auto_columns": null,
      "grid_auto_flow": null,
      "grid_auto_rows": null,
      "grid_column": null,
      "grid_gap": null,
      "grid_row": null,
      "grid_template_areas": null,
      "grid_template_columns": null,
      "grid_template_rows": null,
      "height": null,
      "justify_content": null,
      "justify_items": null,
      "left": null,
      "margin": null,
      "max_height": null,
      "max_width": null,
      "min_height": null,
      "min_width": null,
      "object_fit": null,
      "object_position": null,
      "order": null,
      "overflow": null,
      "overflow_x": null,
      "overflow_y": null,
      "padding": null,
      "right": null,
      "top": null,
      "visibility": null,
      "width": null
     }
    },
    "5a9ddc22d7134ae587beffeb9ed61a6f": {
     "model_module": "@jupyter-widgets/base",
     "model_module_version": "1.2.0",
     "model_name": "LayoutModel",
     "state": {
      "_model_module": "@jupyter-widgets/base",
      "_model_module_version": "1.2.0",
      "_model_name": "LayoutModel",
      "_view_count": null,
      "_view_module": "@jupyter-widgets/base",
      "_view_module_version": "1.2.0",
      "_view_name": "LayoutView",
      "align_content": null,
      "align_items": null,
      "align_self": null,
      "border": null,
      "bottom": null,
      "display": null,
      "flex": null,
      "flex_flow": null,
      "grid_area": null,
      "grid_auto_columns": null,
      "grid_auto_flow": null,
      "grid_auto_rows": null,
      "grid_column": null,
      "grid_gap": null,
      "grid_row": null,
      "grid_template_areas": null,
      "grid_template_columns": null,
      "grid_template_rows": null,
      "height": null,
      "justify_content": null,
      "justify_items": null,
      "left": null,
      "margin": null,
      "max_height": null,
      "max_width": null,
      "min_height": null,
      "min_width": null,
      "object_fit": null,
      "object_position": null,
      "order": null,
      "overflow": null,
      "overflow_x": null,
      "overflow_y": null,
      "padding": null,
      "right": null,
      "top": null,
      "visibility": null,
      "width": null
     }
    },
    "5c10ab7ebb2e47bd9e6842b9d0f38a3e": {
     "model_module": "@jupyter-widgets/controls",
     "model_module_version": "1.5.0",
     "model_name": "HTMLModel",
     "state": {
      "_dom_classes": [],
      "_model_module": "@jupyter-widgets/controls",
      "_model_module_version": "1.5.0",
      "_model_name": "HTMLModel",
      "_view_count": null,
      "_view_module": "@jupyter-widgets/controls",
      "_view_module_version": "1.5.0",
      "_view_name": "HTMLView",
      "description": "",
      "description_tooltip": null,
      "layout": "IPY_MODEL_ef4a3d14bb9545b7ad826ef916021be2",
      "placeholder": "​",
      "style": "IPY_MODEL_314ed6acee59486eafe627b00265a0cf",
      "value": " 135801/135801 [00:22&lt;00:00, 4295.10 examples/s]"
     }
    },
    "60dec80f98c44e0e803900b2a5bbfd16": {
     "model_module": "@jupyter-widgets/controls",
     "model_module_version": "1.5.0",
     "model_name": "DescriptionStyleModel",
     "state": {
      "_model_module": "@jupyter-widgets/controls",
      "_model_module_version": "1.5.0",
      "_model_name": "DescriptionStyleModel",
      "_view_count": null,
      "_view_module": "@jupyter-widgets/base",
      "_view_module_version": "1.2.0",
      "_view_name": "StyleView",
      "description_width": ""
     }
    },
    "7ca904c63d6e41e98db8f8e284c4fbbf": {
     "model_module": "@jupyter-widgets/base",
     "model_module_version": "1.2.0",
     "model_name": "LayoutModel",
     "state": {
      "_model_module": "@jupyter-widgets/base",
      "_model_module_version": "1.2.0",
      "_model_name": "LayoutModel",
      "_view_count": null,
      "_view_module": "@jupyter-widgets/base",
      "_view_module_version": "1.2.0",
      "_view_name": "LayoutView",
      "align_content": null,
      "align_items": null,
      "align_self": null,
      "border": null,
      "bottom": null,
      "display": null,
      "flex": null,
      "flex_flow": null,
      "grid_area": null,
      "grid_auto_columns": null,
      "grid_auto_flow": null,
      "grid_auto_rows": null,
      "grid_column": null,
      "grid_gap": null,
      "grid_row": null,
      "grid_template_areas": null,
      "grid_template_columns": null,
      "grid_template_rows": null,
      "height": null,
      "justify_content": null,
      "justify_items": null,
      "left": null,
      "margin": null,
      "max_height": null,
      "max_width": null,
      "min_height": null,
      "min_width": null,
      "object_fit": null,
      "object_position": null,
      "order": null,
      "overflow": null,
      "overflow_x": null,
      "overflow_y": null,
      "padding": null,
      "right": null,
      "top": null,
      "visibility": null,
      "width": null
     }
    },
    "7e0cda89d5ba496fa3f15239d9e9ab5a": {
     "model_module": "@jupyter-widgets/controls",
     "model_module_version": "1.5.0",
     "model_name": "HTMLModel",
     "state": {
      "_dom_classes": [],
      "_model_module": "@jupyter-widgets/controls",
      "_model_module_version": "1.5.0",
      "_model_name": "HTMLModel",
      "_view_count": null,
      "_view_module": "@jupyter-widgets/controls",
      "_view_module_version": "1.5.0",
      "_view_name": "HTMLView",
      "description": "",
      "description_tooltip": null,
      "layout": "IPY_MODEL_ebea574979474e07bf6f3d0172b931bf",
      "placeholder": "​",
      "style": "IPY_MODEL_800ec95473c34573a32f7afecabfa2fb",
      "value": "Map: 100%"
     }
    },
    "800ec95473c34573a32f7afecabfa2fb": {
     "model_module": "@jupyter-widgets/controls",
     "model_module_version": "1.5.0",
     "model_name": "DescriptionStyleModel",
     "state": {
      "_model_module": "@jupyter-widgets/controls",
      "_model_module_version": "1.5.0",
      "_model_name": "DescriptionStyleModel",
      "_view_count": null,
      "_view_module": "@jupyter-widgets/base",
      "_view_module_version": "1.2.0",
      "_view_name": "StyleView",
      "description_width": ""
     }
    },
    "8ca182a1aa62421395caa585f5428347": {
     "model_module": "@jupyter-widgets/base",
     "model_module_version": "1.2.0",
     "model_name": "LayoutModel",
     "state": {
      "_model_module": "@jupyter-widgets/base",
      "_model_module_version": "1.2.0",
      "_model_name": "LayoutModel",
      "_view_count": null,
      "_view_module": "@jupyter-widgets/base",
      "_view_module_version": "1.2.0",
      "_view_name": "LayoutView",
      "align_content": null,
      "align_items": null,
      "align_self": null,
      "border": null,
      "bottom": null,
      "display": null,
      "flex": null,
      "flex_flow": null,
      "grid_area": null,
      "grid_auto_columns": null,
      "grid_auto_flow": null,
      "grid_auto_rows": null,
      "grid_column": null,
      "grid_gap": null,
      "grid_row": null,
      "grid_template_areas": null,
      "grid_template_columns": null,
      "grid_template_rows": null,
      "height": null,
      "justify_content": null,
      "justify_items": null,
      "left": null,
      "margin": null,
      "max_height": null,
      "max_width": null,
      "min_height": null,
      "min_width": null,
      "object_fit": null,
      "object_position": null,
      "order": null,
      "overflow": null,
      "overflow_x": null,
      "overflow_y": null,
      "padding": null,
      "right": null,
      "top": null,
      "visibility": null,
      "width": null
     }
    },
    "9248c477e2124d3d91388fcacdfd02ce": {
     "model_module": "@jupyter-widgets/controls",
     "model_module_version": "1.5.0",
     "model_name": "FloatProgressModel",
     "state": {
      "_dom_classes": [],
      "_model_module": "@jupyter-widgets/controls",
      "_model_module_version": "1.5.0",
      "_model_name": "FloatProgressModel",
      "_view_count": null,
      "_view_module": "@jupyter-widgets/controls",
      "_view_module_version": "1.5.0",
      "_view_name": "ProgressView",
      "bar_style": "success",
      "description": "",
      "description_tooltip": null,
      "layout": "IPY_MODEL_e113c224b27f45e98f63bfd46cdb7440",
      "max": 135801,
      "min": 0,
      "orientation": "horizontal",
      "style": "IPY_MODEL_27644b541d354144ab648973fae1413b",
      "value": 135801
     }
    },
    "96e7fa21d9a14c61b2b448799dde88e8": {
     "model_module": "@jupyter-widgets/base",
     "model_module_version": "1.2.0",
     "model_name": "LayoutModel",
     "state": {
      "_model_module": "@jupyter-widgets/base",
      "_model_module_version": "1.2.0",
      "_model_name": "LayoutModel",
      "_view_count": null,
      "_view_module": "@jupyter-widgets/base",
      "_view_module_version": "1.2.0",
      "_view_name": "LayoutView",
      "align_content": null,
      "align_items": null,
      "align_self": null,
      "border": null,
      "bottom": null,
      "display": null,
      "flex": null,
      "flex_flow": null,
      "grid_area": null,
      "grid_auto_columns": null,
      "grid_auto_flow": null,
      "grid_auto_rows": null,
      "grid_column": null,
      "grid_gap": null,
      "grid_row": null,
      "grid_template_areas": null,
      "grid_template_columns": null,
      "grid_template_rows": null,
      "height": null,
      "justify_content": null,
      "justify_items": null,
      "left": null,
      "margin": null,
      "max_height": null,
      "max_width": null,
      "min_height": null,
      "min_width": null,
      "object_fit": null,
      "object_position": null,
      "order": null,
      "overflow": null,
      "overflow_x": null,
      "overflow_y": null,
      "padding": null,
      "right": null,
      "top": null,
      "visibility": null,
      "width": null
     }
    },
    "9a3f02ee76a349faae9f5af511ba65c0": {
     "model_module": "@jupyter-widgets/base",
     "model_module_version": "1.2.0",
     "model_name": "LayoutModel",
     "state": {
      "_model_module": "@jupyter-widgets/base",
      "_model_module_version": "1.2.0",
      "_model_name": "LayoutModel",
      "_view_count": null,
      "_view_module": "@jupyter-widgets/base",
      "_view_module_version": "1.2.0",
      "_view_name": "LayoutView",
      "align_content": null,
      "align_items": null,
      "align_self": null,
      "border": null,
      "bottom": null,
      "display": null,
      "flex": null,
      "flex_flow": null,
      "grid_area": null,
      "grid_auto_columns": null,
      "grid_auto_flow": null,
      "grid_auto_rows": null,
      "grid_column": null,
      "grid_gap": null,
      "grid_row": null,
      "grid_template_areas": null,
      "grid_template_columns": null,
      "grid_template_rows": null,
      "height": null,
      "justify_content": null,
      "justify_items": null,
      "left": null,
      "margin": null,
      "max_height": null,
      "max_width": null,
      "min_height": null,
      "min_width": null,
      "object_fit": null,
      "object_position": null,
      "order": null,
      "overflow": null,
      "overflow_x": null,
      "overflow_y": null,
      "padding": null,
      "right": null,
      "top": null,
      "visibility": null,
      "width": null
     }
    },
    "a05d1efc0ded4f6c86667e011d64a1fe": {
     "model_module": "@jupyter-widgets/base",
     "model_module_version": "1.2.0",
     "model_name": "LayoutModel",
     "state": {
      "_model_module": "@jupyter-widgets/base",
      "_model_module_version": "1.2.0",
      "_model_name": "LayoutModel",
      "_view_count": null,
      "_view_module": "@jupyter-widgets/base",
      "_view_module_version": "1.2.0",
      "_view_name": "LayoutView",
      "align_content": null,
      "align_items": null,
      "align_self": null,
      "border": null,
      "bottom": null,
      "display": null,
      "flex": null,
      "flex_flow": null,
      "grid_area": null,
      "grid_auto_columns": null,
      "grid_auto_flow": null,
      "grid_auto_rows": null,
      "grid_column": null,
      "grid_gap": null,
      "grid_row": null,
      "grid_template_areas": null,
      "grid_template_columns": null,
      "grid_template_rows": null,
      "height": null,
      "justify_content": null,
      "justify_items": null,
      "left": null,
      "margin": null,
      "max_height": null,
      "max_width": null,
      "min_height": null,
      "min_width": null,
      "object_fit": null,
      "object_position": null,
      "order": null,
      "overflow": null,
      "overflow_x": null,
      "overflow_y": null,
      "padding": null,
      "right": null,
      "top": null,
      "visibility": null,
      "width": null
     }
    },
    "aa4df897cd6f42b7b1961c24dfb47a96": {
     "model_module": "@jupyter-widgets/base",
     "model_module_version": "1.2.0",
     "model_name": "LayoutModel",
     "state": {
      "_model_module": "@jupyter-widgets/base",
      "_model_module_version": "1.2.0",
      "_model_name": "LayoutModel",
      "_view_count": null,
      "_view_module": "@jupyter-widgets/base",
      "_view_module_version": "1.2.0",
      "_view_name": "LayoutView",
      "align_content": null,
      "align_items": null,
      "align_self": null,
      "border": null,
      "bottom": null,
      "display": null,
      "flex": null,
      "flex_flow": null,
      "grid_area": null,
      "grid_auto_columns": null,
      "grid_auto_flow": null,
      "grid_auto_rows": null,
      "grid_column": null,
      "grid_gap": null,
      "grid_row": null,
      "grid_template_areas": null,
      "grid_template_columns": null,
      "grid_template_rows": null,
      "height": null,
      "justify_content": null,
      "justify_items": null,
      "left": null,
      "margin": null,
      "max_height": null,
      "max_width": null,
      "min_height": null,
      "min_width": null,
      "object_fit": null,
      "object_position": null,
      "order": null,
      "overflow": null,
      "overflow_x": null,
      "overflow_y": null,
      "padding": null,
      "right": null,
      "top": null,
      "visibility": null,
      "width": null
     }
    },
    "af5b5ba8b2a44ca7bad6fd1f8105081e": {
     "model_module": "@jupyter-widgets/controls",
     "model_module_version": "1.5.0",
     "model_name": "ProgressStyleModel",
     "state": {
      "_model_module": "@jupyter-widgets/controls",
      "_model_module_version": "1.5.0",
      "_model_name": "ProgressStyleModel",
      "_view_count": null,
      "_view_module": "@jupyter-widgets/base",
      "_view_module_version": "1.2.0",
      "_view_name": "StyleView",
      "bar_color": null,
      "description_width": ""
     }
    },
    "bee804fb1a9640268e9af1b4cb2310f2": {
     "model_module": "@jupyter-widgets/controls",
     "model_module_version": "1.5.0",
     "model_name": "HTMLModel",
     "state": {
      "_dom_classes": [],
      "_model_module": "@jupyter-widgets/controls",
      "_model_module_version": "1.5.0",
      "_model_name": "HTMLModel",
      "_view_count": null,
      "_view_module": "@jupyter-widgets/controls",
      "_view_module_version": "1.5.0",
      "_view_name": "HTMLView",
      "description": "",
      "description_tooltip": null,
      "layout": "IPY_MODEL_5a9ddc22d7134ae587beffeb9ed61a6f",
      "placeholder": "​",
      "style": "IPY_MODEL_019fdac33c3e4de6b2968c078e32972d",
      "value": " 135801/135801 [01:12&lt;00:00, 1941.45 examples/s]"
     }
    },
    "c20d95680ad44132adb5eb57c350eb20": {
     "model_module": "@jupyter-widgets/controls",
     "model_module_version": "1.5.0",
     "model_name": "HTMLModel",
     "state": {
      "_dom_classes": [],
      "_model_module": "@jupyter-widgets/controls",
      "_model_module_version": "1.5.0",
      "_model_name": "HTMLModel",
      "_view_count": null,
      "_view_module": "@jupyter-widgets/controls",
      "_view_module_version": "1.5.0",
      "_view_name": "HTMLView",
      "description": "",
      "description_tooltip": null,
      "layout": "IPY_MODEL_524b7ccbe8654b36aa3ff7a929261370",
      "placeholder": "​",
      "style": "IPY_MODEL_60dec80f98c44e0e803900b2a5bbfd16",
      "value": " 7.65k/? [00:00&lt;00:00, 461kB/s]"
     }
    },
    "dd4995501ab14c84a5c8a46c969d1d51": {
     "model_module": "@jupyter-widgets/base",
     "model_module_version": "1.2.0",
     "model_name": "LayoutModel",
     "state": {
      "_model_module": "@jupyter-widgets/base",
      "_model_module_version": "1.2.0",
      "_model_name": "LayoutModel",
      "_view_count": null,
      "_view_module": "@jupyter-widgets/base",
      "_view_module_version": "1.2.0",
      "_view_name": "LayoutView",
      "align_content": null,
      "align_items": null,
      "align_self": null,
      "border": null,
      "bottom": null,
      "display": null,
      "flex": null,
      "flex_flow": null,
      "grid_area": null,
      "grid_auto_columns": null,
      "grid_auto_flow": null,
      "grid_auto_rows": null,
      "grid_column": null,
      "grid_gap": null,
      "grid_row": null,
      "grid_template_areas": null,
      "grid_template_columns": null,
      "grid_template_rows": null,
      "height": null,
      "justify_content": null,
      "justify_items": null,
      "left": null,
      "margin": null,
      "max_height": null,
      "max_width": null,
      "min_height": null,
      "min_width": null,
      "object_fit": null,
      "object_position": null,
      "order": null,
      "overflow": null,
      "overflow_x": null,
      "overflow_y": null,
      "padding": null,
      "right": null,
      "top": null,
      "visibility": null,
      "width": null
     }
    },
    "e113c224b27f45e98f63bfd46cdb7440": {
     "model_module": "@jupyter-widgets/base",
     "model_module_version": "1.2.0",
     "model_name": "LayoutModel",
     "state": {
      "_model_module": "@jupyter-widgets/base",
      "_model_module_version": "1.2.0",
      "_model_name": "LayoutModel",
      "_view_count": null,
      "_view_module": "@jupyter-widgets/base",
      "_view_module_version": "1.2.0",
      "_view_name": "LayoutView",
      "align_content": null,
      "align_items": null,
      "align_self": null,
      "border": null,
      "bottom": null,
      "display": null,
      "flex": null,
      "flex_flow": null,
      "grid_area": null,
      "grid_auto_columns": null,
      "grid_auto_flow": null,
      "grid_auto_rows": null,
      "grid_column": null,
      "grid_gap": null,
      "grid_row": null,
      "grid_template_areas": null,
      "grid_template_columns": null,
      "grid_template_rows": null,
      "height": null,
      "justify_content": null,
      "justify_items": null,
      "left": null,
      "margin": null,
      "max_height": null,
      "max_width": null,
      "min_height": null,
      "min_width": null,
      "object_fit": null,
      "object_position": null,
      "order": null,
      "overflow": null,
      "overflow_x": null,
      "overflow_y": null,
      "padding": null,
      "right": null,
      "top": null,
      "visibility": null,
      "width": null
     }
    },
    "ebea574979474e07bf6f3d0172b931bf": {
     "model_module": "@jupyter-widgets/base",
     "model_module_version": "1.2.0",
     "model_name": "LayoutModel",
     "state": {
      "_model_module": "@jupyter-widgets/base",
      "_model_module_version": "1.2.0",
      "_model_name": "LayoutModel",
      "_view_count": null,
      "_view_module": "@jupyter-widgets/base",
      "_view_module_version": "1.2.0",
      "_view_name": "LayoutView",
      "align_content": null,
      "align_items": null,
      "align_self": null,
      "border": null,
      "bottom": null,
      "display": null,
      "flex": null,
      "flex_flow": null,
      "grid_area": null,
      "grid_auto_columns": null,
      "grid_auto_flow": null,
      "grid_auto_rows": null,
      "grid_column": null,
      "grid_gap": null,
      "grid_row": null,
      "grid_template_areas": null,
      "grid_template_columns": null,
      "grid_template_rows": null,
      "height": null,
      "justify_content": null,
      "justify_items": null,
      "left": null,
      "margin": null,
      "max_height": null,
      "max_width": null,
      "min_height": null,
      "min_width": null,
      "object_fit": null,
      "object_position": null,
      "order": null,
      "overflow": null,
      "overflow_x": null,
      "overflow_y": null,
      "padding": null,
      "right": null,
      "top": null,
      "visibility": null,
      "width": null
     }
    },
    "ef4a3d14bb9545b7ad826ef916021be2": {
     "model_module": "@jupyter-widgets/base",
     "model_module_version": "1.2.0",
     "model_name": "LayoutModel",
     "state": {
      "_model_module": "@jupyter-widgets/base",
      "_model_module_version": "1.2.0",
      "_model_name": "LayoutModel",
      "_view_count": null,
      "_view_module": "@jupyter-widgets/base",
      "_view_module_version": "1.2.0",
      "_view_name": "LayoutView",
      "align_content": null,
      "align_items": null,
      "align_self": null,
      "border": null,
      "bottom": null,
      "display": null,
      "flex": null,
      "flex_flow": null,
      "grid_area": null,
      "grid_auto_columns": null,
      "grid_auto_flow": null,
      "grid_auto_rows": null,
      "grid_column": null,
      "grid_gap": null,
      "grid_row": null,
      "grid_template_areas": null,
      "grid_template_columns": null,
      "grid_template_rows": null,
      "height": null,
      "justify_content": null,
      "justify_items": null,
      "left": null,
      "margin": null,
      "max_height": null,
      "max_width": null,
      "min_height": null,
      "min_width": null,
      "object_fit": null,
      "object_position": null,
      "order": null,
      "overflow": null,
      "overflow_x": null,
      "overflow_y": null,
      "padding": null,
      "right": null,
      "top": null,
      "visibility": null,
      "width": null
     }
    },
    "f0d0a03b7e964414872310bf18e424e8": {
     "model_module": "@jupyter-widgets/controls",
     "model_module_version": "1.5.0",
     "model_name": "ProgressStyleModel",
     "state": {
      "_model_module": "@jupyter-widgets/controls",
      "_model_module_version": "1.5.0",
      "_model_name": "ProgressStyleModel",
      "_view_count": null,
      "_view_module": "@jupyter-widgets/base",
      "_view_module_version": "1.2.0",
      "_view_name": "StyleView",
      "bar_color": null,
      "description_width": ""
     }
    },
    "fa92cdbd6f1b4e9c81a082220729748b": {
     "model_module": "@jupyter-widgets/controls",
     "model_module_version": "1.5.0",
     "model_name": "HTMLModel",
     "state": {
      "_dom_classes": [],
      "_model_module": "@jupyter-widgets/controls",
      "_model_module_version": "1.5.0",
      "_model_name": "HTMLModel",
      "_view_count": null,
      "_view_module": "@jupyter-widgets/controls",
      "_view_module_version": "1.5.0",
      "_view_name": "HTMLView",
      "description": "",
      "description_tooltip": null,
      "layout": "IPY_MODEL_a05d1efc0ded4f6c86667e011d64a1fe",
      "placeholder": "​",
      "style": "IPY_MODEL_06b087b0ed0e41609e87c71233e59196",
      "value": "Downloading builder script: "
     }
    }
   }
  }
 },
 "nbformat": 4,
 "nbformat_minor": 4
}
